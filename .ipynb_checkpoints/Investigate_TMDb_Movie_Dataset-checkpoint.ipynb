{
 "cells": [
  {
   "cell_type": "markdown",
   "metadata": {},
   "source": [
    "# Project: Investigate TMDb Movie Dataset\n",
    "\n",
    "## Table of Contents\n",
    "<ul>\n",
    "<li><a href=\"#intro\">Introduction</a></li>\n",
    "<li><a href=\"#wrangling\">Data Wrangling</a></li>\n",
    "<li><a href=\"#eda\">Exploratory Data Analysis</a></li>\n",
    "<li><a href=\"#conclusions\">Conclusions</a></li>\n",
    "</ul>"
   ]
  },
  {
   "cell_type": "markdown",
   "metadata": {},
   "source": [
    "<a id='intro'></a>\n",
    "## Introduction\n",
    "##### In this report, I will explore movie data. This data set is collected from The Movie Database(TMDb) and contains about 10,000 movies. I will explore what kinds of properties are associated with movies that have a high vote average.\n"
   ]
  },
  {
   "cell_type": "code",
   "execution_count": 1,
   "metadata": {},
   "outputs": [],
   "source": [
    "# Import libraries\n",
    "import pandas as pd\n",
    "import numpy as np\n",
    "import seaborn as sns\n",
    "import matplotlib.pyplot as plt\n",
    "import statistics\n",
    "%matplotlib inline"
   ]
  },
  {
   "cell_type": "markdown",
   "metadata": {},
   "source": [
    "<a id='wrangling'></a>\n",
    "## Data Wrangling\n",
    "\n",
    "### General Properties"
   ]
  },
  {
   "cell_type": "code",
   "execution_count": 2,
   "metadata": {},
   "outputs": [
    {
     "data": {
      "text/html": [
       "<div>\n",
       "<style scoped>\n",
       "    .dataframe tbody tr th:only-of-type {\n",
       "        vertical-align: middle;\n",
       "    }\n",
       "\n",
       "    .dataframe tbody tr th {\n",
       "        vertical-align: top;\n",
       "    }\n",
       "\n",
       "    .dataframe thead th {\n",
       "        text-align: right;\n",
       "    }\n",
       "</style>\n",
       "<table border=\"1\" class=\"dataframe\">\n",
       "  <thead>\n",
       "    <tr style=\"text-align: right;\">\n",
       "      <th></th>\n",
       "      <th>id</th>\n",
       "      <th>imdb_id</th>\n",
       "      <th>popularity</th>\n",
       "      <th>budget</th>\n",
       "      <th>revenue</th>\n",
       "      <th>original_title</th>\n",
       "      <th>cast</th>\n",
       "      <th>homepage</th>\n",
       "      <th>director</th>\n",
       "      <th>tagline</th>\n",
       "      <th>...</th>\n",
       "      <th>overview</th>\n",
       "      <th>runtime</th>\n",
       "      <th>genres</th>\n",
       "      <th>production_companies</th>\n",
       "      <th>release_date</th>\n",
       "      <th>vote_count</th>\n",
       "      <th>vote_average</th>\n",
       "      <th>release_year</th>\n",
       "      <th>budget_adj</th>\n",
       "      <th>revenue_adj</th>\n",
       "    </tr>\n",
       "  </thead>\n",
       "  <tbody>\n",
       "    <tr>\n",
       "      <th>0</th>\n",
       "      <td>135397</td>\n",
       "      <td>tt0369610</td>\n",
       "      <td>32.985763</td>\n",
       "      <td>150000000</td>\n",
       "      <td>1513528810</td>\n",
       "      <td>Jurassic World</td>\n",
       "      <td>Chris Pratt|Bryce Dallas Howard|Irrfan Khan|Vi...</td>\n",
       "      <td>http://www.jurassicworld.com/</td>\n",
       "      <td>Colin Trevorrow</td>\n",
       "      <td>The park is open.</td>\n",
       "      <td>...</td>\n",
       "      <td>Twenty-two years after the events of Jurassic ...</td>\n",
       "      <td>124</td>\n",
       "      <td>Action|Adventure|Science Fiction|Thriller</td>\n",
       "      <td>Universal Studios|Amblin Entertainment|Legenda...</td>\n",
       "      <td>6/9/15</td>\n",
       "      <td>5562</td>\n",
       "      <td>6.5</td>\n",
       "      <td>2015</td>\n",
       "      <td>1.379999e+08</td>\n",
       "      <td>1.392446e+09</td>\n",
       "    </tr>\n",
       "    <tr>\n",
       "      <th>1</th>\n",
       "      <td>76341</td>\n",
       "      <td>tt1392190</td>\n",
       "      <td>28.419936</td>\n",
       "      <td>150000000</td>\n",
       "      <td>378436354</td>\n",
       "      <td>Mad Max: Fury Road</td>\n",
       "      <td>Tom Hardy|Charlize Theron|Hugh Keays-Byrne|Nic...</td>\n",
       "      <td>http://www.madmaxmovie.com/</td>\n",
       "      <td>George Miller</td>\n",
       "      <td>What a Lovely Day.</td>\n",
       "      <td>...</td>\n",
       "      <td>An apocalyptic story set in the furthest reach...</td>\n",
       "      <td>120</td>\n",
       "      <td>Action|Adventure|Science Fiction|Thriller</td>\n",
       "      <td>Village Roadshow Pictures|Kennedy Miller Produ...</td>\n",
       "      <td>5/13/15</td>\n",
       "      <td>6185</td>\n",
       "      <td>7.1</td>\n",
       "      <td>2015</td>\n",
       "      <td>1.379999e+08</td>\n",
       "      <td>3.481613e+08</td>\n",
       "    </tr>\n",
       "    <tr>\n",
       "      <th>2</th>\n",
       "      <td>262500</td>\n",
       "      <td>tt2908446</td>\n",
       "      <td>13.112507</td>\n",
       "      <td>110000000</td>\n",
       "      <td>295238201</td>\n",
       "      <td>Insurgent</td>\n",
       "      <td>Shailene Woodley|Theo James|Kate Winslet|Ansel...</td>\n",
       "      <td>http://www.thedivergentseries.movie/#insurgent</td>\n",
       "      <td>Robert Schwentke</td>\n",
       "      <td>One Choice Can Destroy You</td>\n",
       "      <td>...</td>\n",
       "      <td>Beatrice Prior must confront her inner demons ...</td>\n",
       "      <td>119</td>\n",
       "      <td>Adventure|Science Fiction|Thriller</td>\n",
       "      <td>Summit Entertainment|Mandeville Films|Red Wago...</td>\n",
       "      <td>3/18/15</td>\n",
       "      <td>2480</td>\n",
       "      <td>6.3</td>\n",
       "      <td>2015</td>\n",
       "      <td>1.012000e+08</td>\n",
       "      <td>2.716190e+08</td>\n",
       "    </tr>\n",
       "  </tbody>\n",
       "</table>\n",
       "<p>3 rows × 21 columns</p>\n",
       "</div>"
      ],
      "text/plain": [
       "       id    imdb_id  popularity     budget     revenue      original_title  \\\n",
       "0  135397  tt0369610   32.985763  150000000  1513528810      Jurassic World   \n",
       "1   76341  tt1392190   28.419936  150000000   378436354  Mad Max: Fury Road   \n",
       "2  262500  tt2908446   13.112507  110000000   295238201           Insurgent   \n",
       "\n",
       "                                                cast  \\\n",
       "0  Chris Pratt|Bryce Dallas Howard|Irrfan Khan|Vi...   \n",
       "1  Tom Hardy|Charlize Theron|Hugh Keays-Byrne|Nic...   \n",
       "2  Shailene Woodley|Theo James|Kate Winslet|Ansel...   \n",
       "\n",
       "                                         homepage          director  \\\n",
       "0                   http://www.jurassicworld.com/   Colin Trevorrow   \n",
       "1                     http://www.madmaxmovie.com/     George Miller   \n",
       "2  http://www.thedivergentseries.movie/#insurgent  Robert Schwentke   \n",
       "\n",
       "                      tagline      ...       \\\n",
       "0           The park is open.      ...        \n",
       "1          What a Lovely Day.      ...        \n",
       "2  One Choice Can Destroy You      ...        \n",
       "\n",
       "                                            overview runtime  \\\n",
       "0  Twenty-two years after the events of Jurassic ...     124   \n",
       "1  An apocalyptic story set in the furthest reach...     120   \n",
       "2  Beatrice Prior must confront her inner demons ...     119   \n",
       "\n",
       "                                      genres  \\\n",
       "0  Action|Adventure|Science Fiction|Thriller   \n",
       "1  Action|Adventure|Science Fiction|Thriller   \n",
       "2         Adventure|Science Fiction|Thriller   \n",
       "\n",
       "                                production_companies release_date vote_count  \\\n",
       "0  Universal Studios|Amblin Entertainment|Legenda...       6/9/15       5562   \n",
       "1  Village Roadshow Pictures|Kennedy Miller Produ...      5/13/15       6185   \n",
       "2  Summit Entertainment|Mandeville Films|Red Wago...      3/18/15       2480   \n",
       "\n",
       "   vote_average  release_year    budget_adj   revenue_adj  \n",
       "0           6.5          2015  1.379999e+08  1.392446e+09  \n",
       "1           7.1          2015  1.379999e+08  3.481613e+08  \n",
       "2           6.3          2015  1.012000e+08  2.716190e+08  \n",
       "\n",
       "[3 rows x 21 columns]"
      ]
     },
     "execution_count": 2,
     "metadata": {},
     "output_type": "execute_result"
    }
   ],
   "source": [
    "# load data\n",
    "df = pd.read_csv('tmdb-movies.csv')\n",
    "df.head(3)"
   ]
  },
  {
   "cell_type": "code",
   "execution_count": 3,
   "metadata": {},
   "outputs": [
    {
     "data": {
      "text/html": [
       "<div>\n",
       "<style scoped>\n",
       "    .dataframe tbody tr th:only-of-type {\n",
       "        vertical-align: middle;\n",
       "    }\n",
       "\n",
       "    .dataframe tbody tr th {\n",
       "        vertical-align: top;\n",
       "    }\n",
       "\n",
       "    .dataframe thead th {\n",
       "        text-align: right;\n",
       "    }\n",
       "</style>\n",
       "<table border=\"1\" class=\"dataframe\">\n",
       "  <thead>\n",
       "    <tr style=\"text-align: right;\">\n",
       "      <th></th>\n",
       "      <th>popularity</th>\n",
       "      <th>budget</th>\n",
       "      <th>revenue</th>\n",
       "      <th>original_title</th>\n",
       "      <th>cast</th>\n",
       "      <th>director</th>\n",
       "      <th>keywords</th>\n",
       "      <th>runtime</th>\n",
       "      <th>genres</th>\n",
       "      <th>production_companies</th>\n",
       "      <th>release_date</th>\n",
       "      <th>vote_count</th>\n",
       "      <th>vote_average</th>\n",
       "      <th>release_year</th>\n",
       "      <th>budget_adj</th>\n",
       "      <th>revenue_adj</th>\n",
       "    </tr>\n",
       "  </thead>\n",
       "  <tbody>\n",
       "    <tr>\n",
       "      <th>0</th>\n",
       "      <td>32.985763</td>\n",
       "      <td>150000000</td>\n",
       "      <td>1513528810</td>\n",
       "      <td>Jurassic World</td>\n",
       "      <td>Chris Pratt|Bryce Dallas Howard|Irrfan Khan|Vi...</td>\n",
       "      <td>Colin Trevorrow</td>\n",
       "      <td>monster|dna|tyrannosaurus rex|velociraptor|island</td>\n",
       "      <td>124</td>\n",
       "      <td>Action|Adventure|Science Fiction|Thriller</td>\n",
       "      <td>Universal Studios|Amblin Entertainment|Legenda...</td>\n",
       "      <td>6/9/15</td>\n",
       "      <td>5562</td>\n",
       "      <td>6.5</td>\n",
       "      <td>2015</td>\n",
       "      <td>1.379999e+08</td>\n",
       "      <td>1.392446e+09</td>\n",
       "    </tr>\n",
       "  </tbody>\n",
       "</table>\n",
       "</div>"
      ],
      "text/plain": [
       "   popularity     budget     revenue  original_title  \\\n",
       "0   32.985763  150000000  1513528810  Jurassic World   \n",
       "\n",
       "                                                cast         director  \\\n",
       "0  Chris Pratt|Bryce Dallas Howard|Irrfan Khan|Vi...  Colin Trevorrow   \n",
       "\n",
       "                                            keywords  runtime  \\\n",
       "0  monster|dna|tyrannosaurus rex|velociraptor|island      124   \n",
       "\n",
       "                                      genres  \\\n",
       "0  Action|Adventure|Science Fiction|Thriller   \n",
       "\n",
       "                                production_companies release_date  vote_count  \\\n",
       "0  Universal Studios|Amblin Entertainment|Legenda...       6/9/15        5562   \n",
       "\n",
       "   vote_average  release_year    budget_adj   revenue_adj  \n",
       "0           6.5          2015  1.379999e+08  1.392446e+09  "
      ]
     },
     "execution_count": 3,
     "metadata": {},
     "output_type": "execute_result"
    }
   ],
   "source": [
    "# Remove unnecessary columns\n",
    "df.drop(['id', 'imdb_id', 'homepage', 'tagline', 'overview'], axis = 1, inplace = True)\n",
    "df.head(1)"
   ]
  },
  {
   "cell_type": "code",
   "execution_count": 4,
   "metadata": {},
   "outputs": [
    {
     "data": {
      "text/html": [
       "<div>\n",
       "<style scoped>\n",
       "    .dataframe tbody tr th:only-of-type {\n",
       "        vertical-align: middle;\n",
       "    }\n",
       "\n",
       "    .dataframe tbody tr th {\n",
       "        vertical-align: top;\n",
       "    }\n",
       "\n",
       "    .dataframe thead th {\n",
       "        text-align: right;\n",
       "    }\n",
       "</style>\n",
       "<table border=\"1\" class=\"dataframe\">\n",
       "  <thead>\n",
       "    <tr style=\"text-align: right;\">\n",
       "      <th></th>\n",
       "      <th>popularity</th>\n",
       "      <th>budget</th>\n",
       "      <th>revenue</th>\n",
       "      <th>runtime</th>\n",
       "      <th>vote_count</th>\n",
       "      <th>vote_average</th>\n",
       "      <th>release_year</th>\n",
       "      <th>budget_adj</th>\n",
       "      <th>revenue_adj</th>\n",
       "    </tr>\n",
       "  </thead>\n",
       "  <tbody>\n",
       "    <tr>\n",
       "      <th>count</th>\n",
       "      <td>10866.000000</td>\n",
       "      <td>1.086600e+04</td>\n",
       "      <td>1.086600e+04</td>\n",
       "      <td>10866.000000</td>\n",
       "      <td>10866.000000</td>\n",
       "      <td>10866.000000</td>\n",
       "      <td>10866.000000</td>\n",
       "      <td>1.086600e+04</td>\n",
       "      <td>1.086600e+04</td>\n",
       "    </tr>\n",
       "    <tr>\n",
       "      <th>mean</th>\n",
       "      <td>0.646441</td>\n",
       "      <td>1.462570e+07</td>\n",
       "      <td>3.982332e+07</td>\n",
       "      <td>102.070863</td>\n",
       "      <td>217.389748</td>\n",
       "      <td>5.974922</td>\n",
       "      <td>2001.322658</td>\n",
       "      <td>1.755104e+07</td>\n",
       "      <td>5.136436e+07</td>\n",
       "    </tr>\n",
       "    <tr>\n",
       "      <th>std</th>\n",
       "      <td>1.000185</td>\n",
       "      <td>3.091321e+07</td>\n",
       "      <td>1.170035e+08</td>\n",
       "      <td>31.381405</td>\n",
       "      <td>575.619058</td>\n",
       "      <td>0.935142</td>\n",
       "      <td>12.812941</td>\n",
       "      <td>3.430616e+07</td>\n",
       "      <td>1.446325e+08</td>\n",
       "    </tr>\n",
       "    <tr>\n",
       "      <th>min</th>\n",
       "      <td>0.000065</td>\n",
       "      <td>0.000000e+00</td>\n",
       "      <td>0.000000e+00</td>\n",
       "      <td>0.000000</td>\n",
       "      <td>10.000000</td>\n",
       "      <td>1.500000</td>\n",
       "      <td>1960.000000</td>\n",
       "      <td>0.000000e+00</td>\n",
       "      <td>0.000000e+00</td>\n",
       "    </tr>\n",
       "    <tr>\n",
       "      <th>25%</th>\n",
       "      <td>0.207583</td>\n",
       "      <td>0.000000e+00</td>\n",
       "      <td>0.000000e+00</td>\n",
       "      <td>90.000000</td>\n",
       "      <td>17.000000</td>\n",
       "      <td>5.400000</td>\n",
       "      <td>1995.000000</td>\n",
       "      <td>0.000000e+00</td>\n",
       "      <td>0.000000e+00</td>\n",
       "    </tr>\n",
       "    <tr>\n",
       "      <th>50%</th>\n",
       "      <td>0.383856</td>\n",
       "      <td>0.000000e+00</td>\n",
       "      <td>0.000000e+00</td>\n",
       "      <td>99.000000</td>\n",
       "      <td>38.000000</td>\n",
       "      <td>6.000000</td>\n",
       "      <td>2006.000000</td>\n",
       "      <td>0.000000e+00</td>\n",
       "      <td>0.000000e+00</td>\n",
       "    </tr>\n",
       "    <tr>\n",
       "      <th>75%</th>\n",
       "      <td>0.713817</td>\n",
       "      <td>1.500000e+07</td>\n",
       "      <td>2.400000e+07</td>\n",
       "      <td>111.000000</td>\n",
       "      <td>145.750000</td>\n",
       "      <td>6.600000</td>\n",
       "      <td>2011.000000</td>\n",
       "      <td>2.085325e+07</td>\n",
       "      <td>3.369710e+07</td>\n",
       "    </tr>\n",
       "    <tr>\n",
       "      <th>max</th>\n",
       "      <td>32.985763</td>\n",
       "      <td>4.250000e+08</td>\n",
       "      <td>2.781506e+09</td>\n",
       "      <td>900.000000</td>\n",
       "      <td>9767.000000</td>\n",
       "      <td>9.200000</td>\n",
       "      <td>2015.000000</td>\n",
       "      <td>4.250000e+08</td>\n",
       "      <td>2.827124e+09</td>\n",
       "    </tr>\n",
       "  </tbody>\n",
       "</table>\n",
       "</div>"
      ],
      "text/plain": [
       "         popularity        budget       revenue       runtime    vote_count  \\\n",
       "count  10866.000000  1.086600e+04  1.086600e+04  10866.000000  10866.000000   \n",
       "mean       0.646441  1.462570e+07  3.982332e+07    102.070863    217.389748   \n",
       "std        1.000185  3.091321e+07  1.170035e+08     31.381405    575.619058   \n",
       "min        0.000065  0.000000e+00  0.000000e+00      0.000000     10.000000   \n",
       "25%        0.207583  0.000000e+00  0.000000e+00     90.000000     17.000000   \n",
       "50%        0.383856  0.000000e+00  0.000000e+00     99.000000     38.000000   \n",
       "75%        0.713817  1.500000e+07  2.400000e+07    111.000000    145.750000   \n",
       "max       32.985763  4.250000e+08  2.781506e+09    900.000000   9767.000000   \n",
       "\n",
       "       vote_average  release_year    budget_adj   revenue_adj  \n",
       "count  10866.000000  10866.000000  1.086600e+04  1.086600e+04  \n",
       "mean       5.974922   2001.322658  1.755104e+07  5.136436e+07  \n",
       "std        0.935142     12.812941  3.430616e+07  1.446325e+08  \n",
       "min        1.500000   1960.000000  0.000000e+00  0.000000e+00  \n",
       "25%        5.400000   1995.000000  0.000000e+00  0.000000e+00  \n",
       "50%        6.000000   2006.000000  0.000000e+00  0.000000e+00  \n",
       "75%        6.600000   2011.000000  2.085325e+07  3.369710e+07  \n",
       "max        9.200000   2015.000000  4.250000e+08  2.827124e+09  "
      ]
     },
     "execution_count": 4,
     "metadata": {},
     "output_type": "execute_result"
    }
   ],
   "source": [
    "df.describe()"
   ]
  },
  {
   "cell_type": "markdown",
   "metadata": {},
   "source": [
    "##### Minimum value of budget, revenue, runtime, budget_adj and revenue_adj are 0. Considering the nature of these features, these 0 should be treated as a missing value."
   ]
  },
  {
   "cell_type": "code",
   "execution_count": 84,
   "metadata": {},
   "outputs": [
    {
     "name": "stdout",
     "output_type": "stream",
     "text": [
      "<class 'pandas.core.frame.DataFrame'>\n",
      "Int64Index: 10865 entries, 0 to 10865\n",
      "Data columns (total 16 columns):\n",
      "popularity              10865 non-null float64\n",
      "budget                  5169 non-null float64\n",
      "revenue                 4849 non-null float64\n",
      "original_title          10865 non-null object\n",
      "cast                    10789 non-null object\n",
      "director                10821 non-null object\n",
      "keywords                9372 non-null object\n",
      "runtime                 10834 non-null float64\n",
      "genres                  10842 non-null object\n",
      "production_companies    9835 non-null object\n",
      "release_date            10865 non-null object\n",
      "vote_count              10865 non-null int64\n",
      "vote_average            10865 non-null float64\n",
      "release_year            10865 non-null int64\n",
      "budget_adj              5169 non-null float64\n",
      "revenue_adj             4849 non-null float64\n",
      "dtypes: float64(7), int64(2), object(7)\n",
      "memory usage: 1.7+ MB\n"
     ]
    }
   ],
   "source": [
    "# Check datatype and missing value\n",
    "df.info()"
   ]
  },
  {
   "cell_type": "code",
   "execution_count": 6,
   "metadata": {},
   "outputs": [
    {
     "name": "stdout",
     "output_type": "stream",
     "text": [
      "There are 16 columns and 10866 rows.\n"
     ]
    }
   ],
   "source": [
    "print(f'There are {df.shape[1]} columns and {df.shape[0]} rows.')"
   ]
  },
  {
   "cell_type": "code",
   "execution_count": 7,
   "metadata": {},
   "outputs": [
    {
     "data": {
      "text/plain": [
       "popularity                 0\n",
       "budget                     0\n",
       "revenue                    0\n",
       "original_title             0\n",
       "cast                      76\n",
       "director                  44\n",
       "keywords                1493\n",
       "runtime                    0\n",
       "genres                    23\n",
       "production_companies    1030\n",
       "release_date               0\n",
       "vote_count                 0\n",
       "vote_average               0\n",
       "release_year               0\n",
       "budget_adj                 0\n",
       "revenue_adj                0\n",
       "dtype: int64"
      ]
     },
     "execution_count": 7,
     "metadata": {},
     "output_type": "execute_result"
    }
   ],
   "source": [
    "# count missing value\n",
    "df.isna().sum()"
   ]
  },
  {
   "cell_type": "code",
   "execution_count": 8,
   "metadata": {},
   "outputs": [
    {
     "data": {
      "text/plain": [
       "1"
      ]
     },
     "execution_count": 8,
     "metadata": {},
     "output_type": "execute_result"
    }
   ],
   "source": [
    "# Check duplicated value\n",
    "df.duplicated().sum()"
   ]
  },
  {
   "cell_type": "markdown",
   "metadata": {},
   "source": [
    "##### There is one duplicated row."
   ]
  },
  {
   "cell_type": "markdown",
   "metadata": {},
   "source": [
    "## Data Cleaning \n",
    "### Treat 0 as missing value in certain columns"
   ]
  },
  {
   "cell_type": "code",
   "execution_count": 9,
   "metadata": {},
   "outputs": [],
   "source": [
    "cols = ['budget', 'revenue', 'runtime', 'budget_adj', 'revenue_adj']\n",
    "df[cols] = df[cols].replace({0:np.nan})"
   ]
  },
  {
   "cell_type": "code",
   "execution_count": 10,
   "metadata": {},
   "outputs": [
    {
     "data": {
      "text/plain": [
       "popularity                 0\n",
       "budget                  5696\n",
       "revenue                 6016\n",
       "original_title             0\n",
       "cast                      76\n",
       "director                  44\n",
       "keywords                1493\n",
       "runtime                   31\n",
       "genres                    23\n",
       "production_companies    1030\n",
       "release_date               0\n",
       "vote_count                 0\n",
       "vote_average               0\n",
       "release_year               0\n",
       "budget_adj              5696\n",
       "revenue_adj             6016\n",
       "dtype: int64"
      ]
     },
     "execution_count": 10,
     "metadata": {},
     "output_type": "execute_result"
    }
   ],
   "source": [
    "df.isna().sum()"
   ]
  },
  {
   "cell_type": "markdown",
   "metadata": {},
   "source": [
    "##### Now there are much more missing values. To make the most of this dataset, I will drop the missing value only when necessary."
   ]
  },
  {
   "cell_type": "markdown",
   "metadata": {},
   "source": [
    "### Remove duplicated rows"
   ]
  },
  {
   "cell_type": "code",
   "execution_count": 11,
   "metadata": {},
   "outputs": [
    {
     "data": {
      "text/html": [
       "<div>\n",
       "<style scoped>\n",
       "    .dataframe tbody tr th:only-of-type {\n",
       "        vertical-align: middle;\n",
       "    }\n",
       "\n",
       "    .dataframe tbody tr th {\n",
       "        vertical-align: top;\n",
       "    }\n",
       "\n",
       "    .dataframe thead th {\n",
       "        text-align: right;\n",
       "    }\n",
       "</style>\n",
       "<table border=\"1\" class=\"dataframe\">\n",
       "  <thead>\n",
       "    <tr style=\"text-align: right;\">\n",
       "      <th></th>\n",
       "      <th>popularity</th>\n",
       "      <th>budget</th>\n",
       "      <th>revenue</th>\n",
       "      <th>original_title</th>\n",
       "      <th>cast</th>\n",
       "      <th>director</th>\n",
       "      <th>keywords</th>\n",
       "      <th>runtime</th>\n",
       "      <th>genres</th>\n",
       "      <th>production_companies</th>\n",
       "      <th>release_date</th>\n",
       "      <th>vote_count</th>\n",
       "      <th>vote_average</th>\n",
       "      <th>release_year</th>\n",
       "      <th>budget_adj</th>\n",
       "      <th>revenue_adj</th>\n",
       "    </tr>\n",
       "  </thead>\n",
       "  <tbody>\n",
       "    <tr>\n",
       "      <th>2090</th>\n",
       "      <td>0.59643</td>\n",
       "      <td>30000000.0</td>\n",
       "      <td>967000.0</td>\n",
       "      <td>TEKKEN</td>\n",
       "      <td>Jon Foo|Kelly Overton|Cary-Hiroyuki Tagawa|Ian...</td>\n",
       "      <td>Dwight H. Little</td>\n",
       "      <td>martial arts|dystopia|based on video game|mart...</td>\n",
       "      <td>92.0</td>\n",
       "      <td>Crime|Drama|Action|Thriller|Science Fiction</td>\n",
       "      <td>Namco|Light Song Films</td>\n",
       "      <td>3/20/10</td>\n",
       "      <td>110</td>\n",
       "      <td>5.0</td>\n",
       "      <td>2010</td>\n",
       "      <td>30000000.0</td>\n",
       "      <td>967000.0</td>\n",
       "    </tr>\n",
       "  </tbody>\n",
       "</table>\n",
       "</div>"
      ],
      "text/plain": [
       "      popularity      budget   revenue original_title  \\\n",
       "2090     0.59643  30000000.0  967000.0         TEKKEN   \n",
       "\n",
       "                                                   cast          director  \\\n",
       "2090  Jon Foo|Kelly Overton|Cary-Hiroyuki Tagawa|Ian...  Dwight H. Little   \n",
       "\n",
       "                                               keywords  runtime  \\\n",
       "2090  martial arts|dystopia|based on video game|mart...     92.0   \n",
       "\n",
       "                                           genres    production_companies  \\\n",
       "2090  Crime|Drama|Action|Thriller|Science Fiction  Namco|Light Song Films   \n",
       "\n",
       "     release_date  vote_count  vote_average  release_year  budget_adj  \\\n",
       "2090      3/20/10         110           5.0          2010  30000000.0   \n",
       "\n",
       "      revenue_adj  \n",
       "2090     967000.0  "
      ]
     },
     "execution_count": 11,
     "metadata": {},
     "output_type": "execute_result"
    }
   ],
   "source": [
    "# Check duplicated row\n",
    "df[df.duplicated()]"
   ]
  },
  {
   "cell_type": "code",
   "execution_count": 12,
   "metadata": {},
   "outputs": [
    {
     "data": {
      "text/plain": [
       "(10865, 16)"
      ]
     },
     "execution_count": 12,
     "metadata": {},
     "output_type": "execute_result"
    }
   ],
   "source": [
    "# delete duplicated\n",
    "df.drop_duplicates(inplace = True)\n",
    "df.shape"
   ]
  },
  {
   "cell_type": "markdown",
   "metadata": {},
   "source": [
    "##### Now the duplicated row is deleted and the number of rows is 10865."
   ]
  },
  {
   "cell_type": "markdown",
   "metadata": {},
   "source": [
    "<a id='eda'></a>\n",
    "## Exploratory Data Analysis - What kinds of properties are associated with movies that have a high vote average?\n",
    "### I will explore the association between the vote average and release year, genres, casts and directors.\n",
    "\n",
    "\n",
    "### Q1: Is the year of release associated with the vote average?\n",
    "> Has the film quality been changed over the years? Do people tend to grade more generously to older films? Are only big titles registered when it comes to the old films especially released before 2008 when TMDb started? In this section, I will look into whether the release year is associated with the vote average or not.\n"
   ]
  },
  {
   "cell_type": "code",
   "execution_count": 85,
   "metadata": {},
   "outputs": [
    {
     "data": {
      "image/png": "[encoded data removed]",
      "text/plain": [
       "<Figure size 1440x576 with 1 Axes>"
      ]
     },
     "metadata": {
      "needs_background": "light"
     },
     "output_type": "display_data"
    }
   ],
   "source": [
    "# Plot the number of films per realese year\n",
    "fig, ax = plt.subplots(figsize=(20,8))\n",
    "ax = sns.countplot(data = df, x = 'release_year', color = 'skyblue')\n",
    "ax.set_xlabel('Release Year', fontsize = 15)\n",
    "ax.set_ylabel('Number of Films', fontsize = 15)\n",
    "ax.set_title('Number of Films per Release Year', fontsize = 20)\n",
    "ax.set_xticklabels(ax.get_xticklabels(), rotation = 90);"
   ]
  },
  {
   "cell_type": "markdown",
   "metadata": {},
   "source": [
    "##### Overall, the number of registered films in TMDb is increasing. "
   ]
  },
  {
   "cell_type": "code",
   "execution_count": 87,
   "metadata": {},
   "outputs": [
    {
     "data": {
      "image/png": "[encoded data removed]",
      "text/plain": [
       "<Figure size 1440x576 with 1 Axes>"
      ]
     },
     "metadata": {
      "needs_background": "light"
     },
     "output_type": "display_data"
    }
   ],
   "source": [
    "# Plot the number of vote per realese year\n",
    "df.groupby('release_year').sum().vote_count.plot(kind='bar', figsize = (20,8), color = 'skyblue')\n",
    "plt.xlabel('Release Year', fontsize = 15)\n",
    "plt.ylabel('Number of Votes', fontsize = 15)\n",
    "plt.title('Number of Votes per Release Year', fontsize = 20);"
   ]
  },
  {
   "cell_type": "markdown",
   "metadata": {},
   "source": [
    "##### Overall, the number of votes is also increasing."
   ]
  },
  {
   "cell_type": "code",
   "execution_count": 88,
   "metadata": {},
   "outputs": [
    {
     "data": {
      "image/png": "[encoded data removed]",
      "text/plain": [
       "<Figure size 1440x576 with 1 Axes>"
      ]
     },
     "metadata": {
      "needs_background": "light"
     },
     "output_type": "display_data"
    }
   ],
   "source": [
    "# Plot the average vote per release year\n",
    "df.groupby('release_year').mean().vote_average.plot(kind='line', figsize = (20,8), marker = 's')\n",
    "plt.xlabel('Release Year', fontsize = 15)\n",
    "plt.ylabel('Vote Average', fontsize = 15)\n",
    "plt.title('Vote Average per Release Year', fontsize = 20);"
   ]
  },
  {
   "cell_type": "markdown",
   "metadata": {},
   "source": [
    "##### Overoll, this graph shows that the vote average is slightly decreasing, while the number of films and votes are increasing.\n",
    "##### I would like to check the correlation coefficient between vote avarage and release year."
   ]
  },
  {
   "cell_type": "code",
   "execution_count": 16,
   "metadata": {},
   "outputs": [],
   "source": [
    "# Find the correlation coefficient\n",
    "df_year = df.groupby('release_year').sum().vote_count.to_frame(name = 'number_of_vote').reset_index()"
   ]
  },
  {
   "cell_type": "code",
   "execution_count": 17,
   "metadata": {},
   "outputs": [],
   "source": [
    "df_year['number_of_title'] = df.groupby('release_year').count().original_title.to_frame(name = 'number_of_title').reset_index().iloc[:,1]"
   ]
  },
  {
   "cell_type": "code",
   "execution_count": 18,
   "metadata": {},
   "outputs": [],
   "source": [
    "df_year['average_vote'] = df.groupby('release_year').mean().vote_average.to_frame(name = 'average_vote').reset_index().iloc[:,1]"
   ]
  },
  {
   "cell_type": "code",
   "execution_count": 19,
   "metadata": {},
   "outputs": [
    {
     "data": {
      "text/html": [
       "<div>\n",
       "<style scoped>\n",
       "    .dataframe tbody tr th:only-of-type {\n",
       "        vertical-align: middle;\n",
       "    }\n",
       "\n",
       "    .dataframe tbody tr th {\n",
       "        vertical-align: top;\n",
       "    }\n",
       "\n",
       "    .dataframe thead th {\n",
       "        text-align: right;\n",
       "    }\n",
       "</style>\n",
       "<table border=\"1\" class=\"dataframe\">\n",
       "  <thead>\n",
       "    <tr style=\"text-align: right;\">\n",
       "      <th></th>\n",
       "      <th>release_year</th>\n",
       "      <th>number_of_vote</th>\n",
       "      <th>number_of_title</th>\n",
       "      <th>average_vote</th>\n",
       "    </tr>\n",
       "  </thead>\n",
       "  <tbody>\n",
       "    <tr>\n",
       "      <th>0</th>\n",
       "      <td>1960</td>\n",
       "      <td>2481</td>\n",
       "      <td>32</td>\n",
       "      <td>6.325000</td>\n",
       "    </tr>\n",
       "    <tr>\n",
       "      <th>1</th>\n",
       "      <td>1961</td>\n",
       "      <td>2405</td>\n",
       "      <td>31</td>\n",
       "      <td>6.374194</td>\n",
       "    </tr>\n",
       "    <tr>\n",
       "      <th>2</th>\n",
       "      <td>1962</td>\n",
       "      <td>2392</td>\n",
       "      <td>32</td>\n",
       "      <td>6.343750</td>\n",
       "    </tr>\n",
       "    <tr>\n",
       "      <th>3</th>\n",
       "      <td>1963</td>\n",
       "      <td>2816</td>\n",
       "      <td>34</td>\n",
       "      <td>6.329412</td>\n",
       "    </tr>\n",
       "    <tr>\n",
       "      <th>4</th>\n",
       "      <td>1964</td>\n",
       "      <td>3137</td>\n",
       "      <td>42</td>\n",
       "      <td>6.211905</td>\n",
       "    </tr>\n",
       "  </tbody>\n",
       "</table>\n",
       "</div>"
      ],
      "text/plain": [
       "   release_year  number_of_vote  number_of_title  average_vote\n",
       "0          1960            2481               32      6.325000\n",
       "1          1961            2405               31      6.374194\n",
       "2          1962            2392               32      6.343750\n",
       "3          1963            2816               34      6.329412\n",
       "4          1964            3137               42      6.211905"
      ]
     },
     "execution_count": 19,
     "metadata": {},
     "output_type": "execute_result"
    }
   ],
   "source": [
    "df_year.head()"
   ]
  },
  {
   "cell_type": "code",
   "execution_count": 20,
   "metadata": {},
   "outputs": [
    {
     "data": {
      "text/html": [
       "<div>\n",
       "<style scoped>\n",
       "    .dataframe tbody tr th:only-of-type {\n",
       "        vertical-align: middle;\n",
       "    }\n",
       "\n",
       "    .dataframe tbody tr th {\n",
       "        vertical-align: top;\n",
       "    }\n",
       "\n",
       "    .dataframe thead th {\n",
       "        text-align: right;\n",
       "    }\n",
       "</style>\n",
       "<table border=\"1\" class=\"dataframe\">\n",
       "  <thead>\n",
       "    <tr style=\"text-align: right;\">\n",
       "      <th></th>\n",
       "      <th>release_year</th>\n",
       "      <th>number_of_vote</th>\n",
       "      <th>number_of_title</th>\n",
       "      <th>average_vote</th>\n",
       "    </tr>\n",
       "  </thead>\n",
       "  <tbody>\n",
       "    <tr>\n",
       "      <th>release_year</th>\n",
       "      <td>1.000000</td>\n",
       "      <td>0.828635</td>\n",
       "      <td>0.890582</td>\n",
       "      <td>-0.798732</td>\n",
       "    </tr>\n",
       "    <tr>\n",
       "      <th>number_of_vote</th>\n",
       "      <td>0.828635</td>\n",
       "      <td>1.000000</td>\n",
       "      <td>0.978191</td>\n",
       "      <td>-0.616217</td>\n",
       "    </tr>\n",
       "    <tr>\n",
       "      <th>number_of_title</th>\n",
       "      <td>0.890582</td>\n",
       "      <td>0.978191</td>\n",
       "      <td>1.000000</td>\n",
       "      <td>-0.682063</td>\n",
       "    </tr>\n",
       "    <tr>\n",
       "      <th>average_vote</th>\n",
       "      <td>-0.798732</td>\n",
       "      <td>-0.616217</td>\n",
       "      <td>-0.682063</td>\n",
       "      <td>1.000000</td>\n",
       "    </tr>\n",
       "  </tbody>\n",
       "</table>\n",
       "</div>"
      ],
      "text/plain": [
       "                 release_year  number_of_vote  number_of_title  average_vote\n",
       "release_year         1.000000        0.828635         0.890582     -0.798732\n",
       "number_of_vote       0.828635        1.000000         0.978191     -0.616217\n",
       "number_of_title      0.890582        0.978191         1.000000     -0.682063\n",
       "average_vote        -0.798732       -0.616217        -0.682063      1.000000"
      ]
     },
     "execution_count": 20,
     "metadata": {},
     "output_type": "execute_result"
    }
   ],
   "source": [
    "df_year.corr()"
   ]
  },
  {
   "cell_type": "markdown",
   "metadata": {},
   "source": [
    "##### Release year and the number of votes / registered films show a strong positive correlation.\n",
    "##### On the other hand, the average vote and release year show a strong negative correlation."
   ]
  },
  {
   "cell_type": "markdown",
   "metadata": {},
   "source": [
    "### Q2: Are genres associated with the average vote?"
   ]
  },
  {
   "cell_type": "code",
   "execution_count": 21,
   "metadata": {},
   "outputs": [],
   "source": [
    "# Make a function to expand rows\n",
    "def expand(df, col):\n",
    "    if type(col) != str:\n",
    "        raise TypeError('col must be string')\n",
    "    else:\n",
    "        return df.drop(col, axis=1).join(df[col].str.split('|', expand = True).stack().rename(col).reset_index(drop = True))"
   ]
  },
  {
   "cell_type": "code",
   "execution_count": 22,
   "metadata": {},
   "outputs": [
    {
     "data": {
      "text/html": [
       "<div>\n",
       "<style scoped>\n",
       "    .dataframe tbody tr th:only-of-type {\n",
       "        vertical-align: middle;\n",
       "    }\n",
       "\n",
       "    .dataframe tbody tr th {\n",
       "        vertical-align: top;\n",
       "    }\n",
       "\n",
       "    .dataframe thead th {\n",
       "        text-align: right;\n",
       "    }\n",
       "</style>\n",
       "<table border=\"1\" class=\"dataframe\">\n",
       "  <thead>\n",
       "    <tr style=\"text-align: right;\">\n",
       "      <th></th>\n",
       "      <th>popularity</th>\n",
       "      <th>budget</th>\n",
       "      <th>revenue</th>\n",
       "      <th>original_title</th>\n",
       "      <th>cast</th>\n",
       "      <th>director</th>\n",
       "      <th>keywords</th>\n",
       "      <th>runtime</th>\n",
       "      <th>production_companies</th>\n",
       "      <th>release_date</th>\n",
       "      <th>vote_count</th>\n",
       "      <th>vote_average</th>\n",
       "      <th>release_year</th>\n",
       "      <th>budget_adj</th>\n",
       "      <th>revenue_adj</th>\n",
       "      <th>genres</th>\n",
       "    </tr>\n",
       "  </thead>\n",
       "  <tbody>\n",
       "    <tr>\n",
       "      <th>0</th>\n",
       "      <td>32.985763</td>\n",
       "      <td>150000000.0</td>\n",
       "      <td>1.513529e+09</td>\n",
       "      <td>Jurassic World</td>\n",
       "      <td>Chris Pratt|Bryce Dallas Howard|Irrfan Khan|Vi...</td>\n",
       "      <td>Colin Trevorrow</td>\n",
       "      <td>monster|dna|tyrannosaurus rex|velociraptor|island</td>\n",
       "      <td>124.0</td>\n",
       "      <td>Universal Studios|Amblin Entertainment|Legenda...</td>\n",
       "      <td>6/9/15</td>\n",
       "      <td>5562</td>\n",
       "      <td>6.5</td>\n",
       "      <td>2015</td>\n",
       "      <td>1.379999e+08</td>\n",
       "      <td>1.392446e+09</td>\n",
       "      <td>Action</td>\n",
       "    </tr>\n",
       "    <tr>\n",
       "      <th>1</th>\n",
       "      <td>28.419936</td>\n",
       "      <td>150000000.0</td>\n",
       "      <td>3.784364e+08</td>\n",
       "      <td>Mad Max: Fury Road</td>\n",
       "      <td>Tom Hardy|Charlize Theron|Hugh Keays-Byrne|Nic...</td>\n",
       "      <td>George Miller</td>\n",
       "      <td>future|chase|post-apocalyptic|dystopia|australia</td>\n",
       "      <td>120.0</td>\n",
       "      <td>Village Roadshow Pictures|Kennedy Miller Produ...</td>\n",
       "      <td>5/13/15</td>\n",
       "      <td>6185</td>\n",
       "      <td>7.1</td>\n",
       "      <td>2015</td>\n",
       "      <td>1.379999e+08</td>\n",
       "      <td>3.481613e+08</td>\n",
       "      <td>Adventure</td>\n",
       "    </tr>\n",
       "    <tr>\n",
       "      <th>2</th>\n",
       "      <td>13.112507</td>\n",
       "      <td>110000000.0</td>\n",
       "      <td>2.952382e+08</td>\n",
       "      <td>Insurgent</td>\n",
       "      <td>Shailene Woodley|Theo James|Kate Winslet|Ansel...</td>\n",
       "      <td>Robert Schwentke</td>\n",
       "      <td>based on novel|revolution|dystopia|sequel|dyst...</td>\n",
       "      <td>119.0</td>\n",
       "      <td>Summit Entertainment|Mandeville Films|Red Wago...</td>\n",
       "      <td>3/18/15</td>\n",
       "      <td>2480</td>\n",
       "      <td>6.3</td>\n",
       "      <td>2015</td>\n",
       "      <td>1.012000e+08</td>\n",
       "      <td>2.716190e+08</td>\n",
       "      <td>Science Fiction</td>\n",
       "    </tr>\n",
       "  </tbody>\n",
       "</table>\n",
       "</div>"
      ],
      "text/plain": [
       "   popularity       budget       revenue      original_title  \\\n",
       "0   32.985763  150000000.0  1.513529e+09      Jurassic World   \n",
       "1   28.419936  150000000.0  3.784364e+08  Mad Max: Fury Road   \n",
       "2   13.112507  110000000.0  2.952382e+08           Insurgent   \n",
       "\n",
       "                                                cast          director  \\\n",
       "0  Chris Pratt|Bryce Dallas Howard|Irrfan Khan|Vi...   Colin Trevorrow   \n",
       "1  Tom Hardy|Charlize Theron|Hugh Keays-Byrne|Nic...     George Miller   \n",
       "2  Shailene Woodley|Theo James|Kate Winslet|Ansel...  Robert Schwentke   \n",
       "\n",
       "                                            keywords  runtime  \\\n",
       "0  monster|dna|tyrannosaurus rex|velociraptor|island    124.0   \n",
       "1   future|chase|post-apocalyptic|dystopia|australia    120.0   \n",
       "2  based on novel|revolution|dystopia|sequel|dyst...    119.0   \n",
       "\n",
       "                                production_companies release_date  vote_count  \\\n",
       "0  Universal Studios|Amblin Entertainment|Legenda...       6/9/15        5562   \n",
       "1  Village Roadshow Pictures|Kennedy Miller Produ...      5/13/15        6185   \n",
       "2  Summit Entertainment|Mandeville Films|Red Wago...      3/18/15        2480   \n",
       "\n",
       "   vote_average  release_year    budget_adj   revenue_adj           genres  \n",
       "0           6.5          2015  1.379999e+08  1.392446e+09           Action  \n",
       "1           7.1          2015  1.379999e+08  3.481613e+08        Adventure  \n",
       "2           6.3          2015  1.012000e+08  2.716190e+08  Science Fiction  "
      ]
     },
     "execution_count": 22,
     "metadata": {},
     "output_type": "execute_result"
    }
   ],
   "source": [
    "# Make a new data frame with one genre per row \n",
    "df_genre = expand(df, 'genres')\n",
    "df_genre.head(3)"
   ]
  },
  {
   "cell_type": "code",
   "execution_count": 23,
   "metadata": {},
   "outputs": [
    {
     "data": {
      "text/plain": [
       "20"
      ]
     },
     "execution_count": 23,
     "metadata": {},
     "output_type": "execute_result"
    }
   ],
   "source": [
    "# Check the number of unique values\n",
    "df_genre['genres'].nunique()"
   ]
  },
  {
   "cell_type": "code",
   "execution_count": 81,
   "metadata": {},
   "outputs": [
    {
     "data": {
      "image/png": "[encoded data removed]",
      "text/plain": [
       "<Figure size 1440x360 with 1 Axes>"
      ]
     },
     "metadata": {
      "needs_background": "light"
     },
     "output_type": "display_data"
    }
   ],
   "source": [
    "# Plot vote avarage by genre\n",
    "plt.figure(figsize=(20,5))\n",
    "sns.boxplot(df_genre.genres, df_genre.vote_average)\n",
    "plt.title('Box Plot of Vote Average by genre', fontsize = 20)\n",
    "plt.xlabel('genre', fontsize = 15)\n",
    "plt.ylabel('Vote Average', fontsize = 15)\n",
    "plt.show()"
   ]
  },
  {
   "cell_type": "markdown",
   "metadata": {},
   "source": [
    "##### This graph shows there is a relatively small difference in the median vote average in each genre. Regarding outliers, there are much more outliers in lower vote average than higher vote average. And, some particular genres such as Comedy, Romance and Drama have a lot of outliers."
   ]
  },
  {
   "cell_type": "code",
   "execution_count": 25,
   "metadata": {},
   "outputs": [
    {
     "data": {
      "text/plain": [
       "count      20.000000\n",
       "mean      543.250000\n",
       "std       504.729618\n",
       "min        39.000000\n",
       "25%       144.250000\n",
       "50%       425.000000\n",
       "75%       668.250000\n",
       "max      1924.000000\n",
       "Name: original_title, dtype: float64"
      ]
     },
     "execution_count": 25,
     "metadata": {},
     "output_type": "execute_result"
    }
   ],
   "source": [
    "# Check descriptive statistics of the number of films by genre\n",
    "df_genre.groupby('genres').count().sort_values(by = 'original_title', ascending = False).original_title.describe()"
   ]
  },
  {
   "cell_type": "code",
   "execution_count": 26,
   "metadata": {},
   "outputs": [
    {
     "data": {
      "text/plain": [
       "count    20.000000\n",
       "mean      5.960122\n",
       "std       0.081145\n",
       "min       5.700000\n",
       "25%       5.942717\n",
       "50%       5.974169\n",
       "75%       6.007238\n",
       "max       6.068783\n",
       "Name: vote_average, dtype: float64"
      ]
     },
     "execution_count": 26,
     "metadata": {},
     "output_type": "execute_result"
    }
   ],
   "source": [
    "# Check descriptive statistics of vote average by genre\n",
    "df_genre.groupby('genres').mean().describe().vote_average"
   ]
  },
  {
   "cell_type": "code",
   "execution_count": 27,
   "metadata": {},
   "outputs": [
    {
     "data": {
      "text/plain": [
       "0.006584585620155093"
      ]
     },
     "execution_count": 27,
     "metadata": {},
     "output_type": "execute_result"
    }
   ],
   "source": [
    "# Check variance\n",
    "statistics.variance(df_genre.groupby('genres').mean().vote_average)"
   ]
  },
  {
   "cell_type": "markdown",
   "metadata": {},
   "source": [
    "##### In order to check the correlation coefficient between vote average and each genres, I will make a new dataset by one hot encoding."
   ]
  },
  {
   "cell_type": "code",
   "execution_count": 28,
   "metadata": {},
   "outputs": [],
   "source": [
    "df_genre_dummy = pd.get_dummies(df_genre, columns = ['genres'])"
   ]
  },
  {
   "cell_type": "code",
   "execution_count": 29,
   "metadata": {},
   "outputs": [
    {
     "data": {
      "text/html": [
       "<div>\n",
       "<style scoped>\n",
       "    .dataframe tbody tr th:only-of-type {\n",
       "        vertical-align: middle;\n",
       "    }\n",
       "\n",
       "    .dataframe tbody tr th {\n",
       "        vertical-align: top;\n",
       "    }\n",
       "\n",
       "    .dataframe thead th {\n",
       "        text-align: right;\n",
       "    }\n",
       "</style>\n",
       "<table border=\"1\" class=\"dataframe\">\n",
       "  <thead>\n",
       "    <tr style=\"text-align: right;\">\n",
       "      <th></th>\n",
       "      <th>popularity</th>\n",
       "      <th>budget</th>\n",
       "      <th>revenue</th>\n",
       "      <th>original_title</th>\n",
       "      <th>cast</th>\n",
       "      <th>director</th>\n",
       "      <th>keywords</th>\n",
       "      <th>runtime</th>\n",
       "      <th>production_companies</th>\n",
       "      <th>release_date</th>\n",
       "      <th>...</th>\n",
       "      <th>genres_History</th>\n",
       "      <th>genres_Horror</th>\n",
       "      <th>genres_Music</th>\n",
       "      <th>genres_Mystery</th>\n",
       "      <th>genres_Romance</th>\n",
       "      <th>genres_Science Fiction</th>\n",
       "      <th>genres_TV Movie</th>\n",
       "      <th>genres_Thriller</th>\n",
       "      <th>genres_War</th>\n",
       "      <th>genres_Western</th>\n",
       "    </tr>\n",
       "  </thead>\n",
       "  <tbody>\n",
       "    <tr>\n",
       "      <th>0</th>\n",
       "      <td>32.985763</td>\n",
       "      <td>150000000.0</td>\n",
       "      <td>1.513529e+09</td>\n",
       "      <td>Jurassic World</td>\n",
       "      <td>Chris Pratt|Bryce Dallas Howard|Irrfan Khan|Vi...</td>\n",
       "      <td>Colin Trevorrow</td>\n",
       "      <td>monster|dna|tyrannosaurus rex|velociraptor|island</td>\n",
       "      <td>124.0</td>\n",
       "      <td>Universal Studios|Amblin Entertainment|Legenda...</td>\n",
       "      <td>6/9/15</td>\n",
       "      <td>...</td>\n",
       "      <td>0</td>\n",
       "      <td>0</td>\n",
       "      <td>0</td>\n",
       "      <td>0</td>\n",
       "      <td>0</td>\n",
       "      <td>0</td>\n",
       "      <td>0</td>\n",
       "      <td>0</td>\n",
       "      <td>0</td>\n",
       "      <td>0</td>\n",
       "    </tr>\n",
       "  </tbody>\n",
       "</table>\n",
       "<p>1 rows × 35 columns</p>\n",
       "</div>"
      ],
      "text/plain": [
       "   popularity       budget       revenue  original_title  \\\n",
       "0   32.985763  150000000.0  1.513529e+09  Jurassic World   \n",
       "\n",
       "                                                cast         director  \\\n",
       "0  Chris Pratt|Bryce Dallas Howard|Irrfan Khan|Vi...  Colin Trevorrow   \n",
       "\n",
       "                                            keywords  runtime  \\\n",
       "0  monster|dna|tyrannosaurus rex|velociraptor|island    124.0   \n",
       "\n",
       "                                production_companies release_date  \\\n",
       "0  Universal Studios|Amblin Entertainment|Legenda...       6/9/15   \n",
       "\n",
       "        ...        genres_History  genres_Horror  genres_Music  \\\n",
       "0       ...                     0              0             0   \n",
       "\n",
       "   genres_Mystery  genres_Romance  genres_Science Fiction  genres_TV Movie  \\\n",
       "0               0               0                       0                0   \n",
       "\n",
       "   genres_Thriller  genres_War  genres_Western  \n",
       "0                0           0               0  \n",
       "\n",
       "[1 rows x 35 columns]"
      ]
     },
     "execution_count": 29,
     "metadata": {},
     "output_type": "execute_result"
    }
   ],
   "source": [
    "df_genre_dummy.head(1)"
   ]
  },
  {
   "cell_type": "code",
   "execution_count": 30,
   "metadata": {},
   "outputs": [
    {
     "data": {
      "text/html": [
       "<div>\n",
       "<style scoped>\n",
       "    .dataframe tbody tr th:only-of-type {\n",
       "        vertical-align: middle;\n",
       "    }\n",
       "\n",
       "    .dataframe tbody tr th {\n",
       "        vertical-align: top;\n",
       "    }\n",
       "\n",
       "    .dataframe thead th {\n",
       "        text-align: right;\n",
       "    }\n",
       "</style>\n",
       "<table border=\"1\" class=\"dataframe\">\n",
       "  <thead>\n",
       "    <tr style=\"text-align: right;\">\n",
       "      <th></th>\n",
       "      <th>genres_Action</th>\n",
       "      <th>genres_Adventure</th>\n",
       "      <th>genres_Animation</th>\n",
       "      <th>genres_Comedy</th>\n",
       "      <th>genres_Crime</th>\n",
       "      <th>genres_Documentary</th>\n",
       "      <th>genres_Drama</th>\n",
       "      <th>genres_Family</th>\n",
       "      <th>genres_Fantasy</th>\n",
       "      <th>genres_Foreign</th>\n",
       "      <th>genres_History</th>\n",
       "      <th>genres_Horror</th>\n",
       "      <th>genres_Music</th>\n",
       "      <th>genres_Mystery</th>\n",
       "      <th>genres_Romance</th>\n",
       "      <th>genres_Science Fiction</th>\n",
       "      <th>genres_TV Movie</th>\n",
       "      <th>genres_Thriller</th>\n",
       "      <th>genres_War</th>\n",
       "      <th>genres_Western</th>\n",
       "    </tr>\n",
       "  </thead>\n",
       "  <tbody>\n",
       "    <tr>\n",
       "      <th>0</th>\n",
       "      <td>1</td>\n",
       "      <td>0</td>\n",
       "      <td>0</td>\n",
       "      <td>0</td>\n",
       "      <td>0</td>\n",
       "      <td>0</td>\n",
       "      <td>0</td>\n",
       "      <td>0</td>\n",
       "      <td>0</td>\n",
       "      <td>0</td>\n",
       "      <td>0</td>\n",
       "      <td>0</td>\n",
       "      <td>0</td>\n",
       "      <td>0</td>\n",
       "      <td>0</td>\n",
       "      <td>0</td>\n",
       "      <td>0</td>\n",
       "      <td>0</td>\n",
       "      <td>0</td>\n",
       "      <td>0</td>\n",
       "    </tr>\n",
       "  </tbody>\n",
       "</table>\n",
       "</div>"
      ],
      "text/plain": [
       "   genres_Action  genres_Adventure  genres_Animation  genres_Comedy  \\\n",
       "0              1                 0                 0              0   \n",
       "\n",
       "   genres_Crime  genres_Documentary  genres_Drama  genres_Family  \\\n",
       "0             0                   0             0              0   \n",
       "\n",
       "   genres_Fantasy  genres_Foreign  genres_History  genres_Horror  \\\n",
       "0               0               0               0              0   \n",
       "\n",
       "   genres_Music  genres_Mystery  genres_Romance  genres_Science Fiction  \\\n",
       "0             0               0               0                       0   \n",
       "\n",
       "   genres_TV Movie  genres_Thriller  genres_War  genres_Western  \n",
       "0                0                0           0               0  "
      ]
     },
     "execution_count": 30,
     "metadata": {},
     "output_type": "execute_result"
    }
   ],
   "source": [
    "df_genre_dummy.iloc[:, 15:].head(1)"
   ]
  },
  {
   "cell_type": "code",
   "execution_count": 31,
   "metadata": {},
   "outputs": [
    {
     "data": {
      "text/plain": [
       "genres_Adventure          0.023530\n",
       "genres_Thriller           0.018102\n",
       "genres_Science Fiction    0.016572\n",
       "genres_Documentary        0.007596\n",
       "genres_Action             0.007525\n",
       "genres_Mystery            0.005895\n",
       "genres_History            0.004005\n",
       "genres_War                0.003292\n",
       "genres_Family             0.001275\n",
       "genres_Comedy             0.001124\n",
       "genres_Animation         -0.000818\n",
       "genres_Foreign           -0.001056\n",
       "genres_Romance           -0.004088\n",
       "genres_Fantasy           -0.004592\n",
       "genres_Horror            -0.008321\n",
       "genres_Crime             -0.008788\n",
       "genres_TV Movie          -0.011877\n",
       "genres_Music             -0.013287\n",
       "genres_Western           -0.017652\n",
       "genres_Drama             -0.027852\n",
       "dtype: float64"
      ]
     },
     "execution_count": 31,
     "metadata": {},
     "output_type": "execute_result"
    }
   ],
   "source": [
    "# Check correlation coefficient\n",
    "df_genre_dummy.iloc[:, 15:].corrwith(df_genre_dummy['vote_average']).sort_values( ascending= False)"
   ]
  },
  {
   "cell_type": "markdown",
   "metadata": {},
   "source": [
    "##### Adventure have the strongest positive correlation and Drama have the strongest negative correlation with vote average, but the overall correlation between genres and vote average is very weak."
   ]
  },
  {
   "cell_type": "markdown",
   "metadata": {},
   "source": [
    "### Q3: Are casts associated with the vote average?"
   ]
  },
  {
   "cell_type": "code",
   "execution_count": 32,
   "metadata": {},
   "outputs": [
    {
     "data": {
      "text/html": [
       "<div>\n",
       "<style scoped>\n",
       "    .dataframe tbody tr th:only-of-type {\n",
       "        vertical-align: middle;\n",
       "    }\n",
       "\n",
       "    .dataframe tbody tr th {\n",
       "        vertical-align: top;\n",
       "    }\n",
       "\n",
       "    .dataframe thead th {\n",
       "        text-align: right;\n",
       "    }\n",
       "</style>\n",
       "<table border=\"1\" class=\"dataframe\">\n",
       "  <thead>\n",
       "    <tr style=\"text-align: right;\">\n",
       "      <th></th>\n",
       "      <th>popularity</th>\n",
       "      <th>budget</th>\n",
       "      <th>revenue</th>\n",
       "      <th>original_title</th>\n",
       "      <th>director</th>\n",
       "      <th>keywords</th>\n",
       "      <th>runtime</th>\n",
       "      <th>genres</th>\n",
       "      <th>production_companies</th>\n",
       "      <th>release_date</th>\n",
       "      <th>vote_count</th>\n",
       "      <th>vote_average</th>\n",
       "      <th>release_year</th>\n",
       "      <th>budget_adj</th>\n",
       "      <th>revenue_adj</th>\n",
       "      <th>cast</th>\n",
       "    </tr>\n",
       "  </thead>\n",
       "  <tbody>\n",
       "    <tr>\n",
       "      <th>0</th>\n",
       "      <td>32.985763</td>\n",
       "      <td>150000000.0</td>\n",
       "      <td>1.513529e+09</td>\n",
       "      <td>Jurassic World</td>\n",
       "      <td>Colin Trevorrow</td>\n",
       "      <td>monster|dna|tyrannosaurus rex|velociraptor|island</td>\n",
       "      <td>124.0</td>\n",
       "      <td>Action|Adventure|Science Fiction|Thriller</td>\n",
       "      <td>Universal Studios|Amblin Entertainment|Legenda...</td>\n",
       "      <td>6/9/15</td>\n",
       "      <td>5562</td>\n",
       "      <td>6.5</td>\n",
       "      <td>2015</td>\n",
       "      <td>1.379999e+08</td>\n",
       "      <td>1.392446e+09</td>\n",
       "      <td>Chris Pratt</td>\n",
       "    </tr>\n",
       "    <tr>\n",
       "      <th>1</th>\n",
       "      <td>28.419936</td>\n",
       "      <td>150000000.0</td>\n",
       "      <td>3.784364e+08</td>\n",
       "      <td>Mad Max: Fury Road</td>\n",
       "      <td>George Miller</td>\n",
       "      <td>future|chase|post-apocalyptic|dystopia|australia</td>\n",
       "      <td>120.0</td>\n",
       "      <td>Action|Adventure|Science Fiction|Thriller</td>\n",
       "      <td>Village Roadshow Pictures|Kennedy Miller Produ...</td>\n",
       "      <td>5/13/15</td>\n",
       "      <td>6185</td>\n",
       "      <td>7.1</td>\n",
       "      <td>2015</td>\n",
       "      <td>1.379999e+08</td>\n",
       "      <td>3.481613e+08</td>\n",
       "      <td>Bryce Dallas Howard</td>\n",
       "    </tr>\n",
       "    <tr>\n",
       "      <th>2</th>\n",
       "      <td>13.112507</td>\n",
       "      <td>110000000.0</td>\n",
       "      <td>2.952382e+08</td>\n",
       "      <td>Insurgent</td>\n",
       "      <td>Robert Schwentke</td>\n",
       "      <td>based on novel|revolution|dystopia|sequel|dyst...</td>\n",
       "      <td>119.0</td>\n",
       "      <td>Adventure|Science Fiction|Thriller</td>\n",
       "      <td>Summit Entertainment|Mandeville Films|Red Wago...</td>\n",
       "      <td>3/18/15</td>\n",
       "      <td>2480</td>\n",
       "      <td>6.3</td>\n",
       "      <td>2015</td>\n",
       "      <td>1.012000e+08</td>\n",
       "      <td>2.716190e+08</td>\n",
       "      <td>Irrfan Khan</td>\n",
       "    </tr>\n",
       "  </tbody>\n",
       "</table>\n",
       "</div>"
      ],
      "text/plain": [
       "   popularity       budget       revenue      original_title  \\\n",
       "0   32.985763  150000000.0  1.513529e+09      Jurassic World   \n",
       "1   28.419936  150000000.0  3.784364e+08  Mad Max: Fury Road   \n",
       "2   13.112507  110000000.0  2.952382e+08           Insurgent   \n",
       "\n",
       "           director                                           keywords  \\\n",
       "0   Colin Trevorrow  monster|dna|tyrannosaurus rex|velociraptor|island   \n",
       "1     George Miller   future|chase|post-apocalyptic|dystopia|australia   \n",
       "2  Robert Schwentke  based on novel|revolution|dystopia|sequel|dyst...   \n",
       "\n",
       "   runtime                                     genres  \\\n",
       "0    124.0  Action|Adventure|Science Fiction|Thriller   \n",
       "1    120.0  Action|Adventure|Science Fiction|Thriller   \n",
       "2    119.0         Adventure|Science Fiction|Thriller   \n",
       "\n",
       "                                production_companies release_date  vote_count  \\\n",
       "0  Universal Studios|Amblin Entertainment|Legenda...       6/9/15        5562   \n",
       "1  Village Roadshow Pictures|Kennedy Miller Produ...      5/13/15        6185   \n",
       "2  Summit Entertainment|Mandeville Films|Red Wago...      3/18/15        2480   \n",
       "\n",
       "   vote_average  release_year    budget_adj   revenue_adj                 cast  \n",
       "0           6.5          2015  1.379999e+08  1.392446e+09          Chris Pratt  \n",
       "1           7.1          2015  1.379999e+08  3.481613e+08  Bryce Dallas Howard  \n",
       "2           6.3          2015  1.012000e+08  2.716190e+08          Irrfan Khan  "
      ]
     },
     "execution_count": 32,
     "metadata": {},
     "output_type": "execute_result"
    }
   ],
   "source": [
    "# Make a new dataframe with one cast per row\n",
    "df_cast = expand(df, 'cast')\n",
    "df_cast.head(3)"
   ]
  },
  {
   "cell_type": "code",
   "execution_count": 33,
   "metadata": {},
   "outputs": [
    {
     "data": {
      "text/plain": [
       "6433"
      ]
     },
     "execution_count": 33,
     "metadata": {},
     "output_type": "execute_result"
    }
   ],
   "source": [
    "# Check the number of unique values of cast\n",
    "df_cast['cast'].nunique()"
   ]
  },
  {
   "cell_type": "code",
   "execution_count": 34,
   "metadata": {},
   "outputs": [
    {
     "data": {
      "text/plain": [
       "count    6433.000000\n",
       "mean        1.688948\n",
       "std         1.524193\n",
       "min         1.000000\n",
       "25%         1.000000\n",
       "50%         1.000000\n",
       "75%         2.000000\n",
       "max        14.000000\n",
       "Name: original_title, dtype: float64"
      ]
     },
     "execution_count": 34,
     "metadata": {},
     "output_type": "execute_result"
    }
   ],
   "source": [
    "# Check descriptive statistics of appearance of cast\n",
    "df_cast.groupby('cast').count().sort_values(by = 'original_title', ascending = False).original_title.describe()"
   ]
  },
  {
   "cell_type": "markdown",
   "metadata": {},
   "source": [
    "##### More than 50% of the cast have only one appearance."
   ]
  },
  {
   "cell_type": "code",
   "execution_count": 35,
   "metadata": {},
   "outputs": [
    {
     "data": {
      "text/plain": [
       "count    6433.000000\n",
       "mean        5.970462\n",
       "std         0.850914\n",
       "min         2.000000\n",
       "25%         5.500000\n",
       "50%         6.000000\n",
       "75%         6.500000\n",
       "max         9.200000\n",
       "Name: vote_average, dtype: float64"
      ]
     },
     "execution_count": 35,
     "metadata": {},
     "output_type": "execute_result"
    }
   ],
   "source": [
    "# Check descriptive statistics of vote average by cast\n",
    "df_cast.groupby('cast').mean().describe().vote_average"
   ]
  },
  {
   "cell_type": "code",
   "execution_count": 36,
   "metadata": {},
   "outputs": [
    {
     "data": {
      "image/png": "[encoded data removed]",
      "text/plain": [
       "<Figure size 432x288 with 1 Axes>"
      ]
     },
     "metadata": {
      "needs_background": "light"
     },
     "output_type": "display_data"
    }
   ],
   "source": [
    "# Plot the vote averafe by cast\n",
    "ax = sns.violinplot(df_cast.groupby('cast').mean().vote_average, inner = 'quartile', color = 'white')\n",
    "ax.set_title('Violinplot of the vote average by cast');"
   ]
  },
  {
   "cell_type": "markdown",
   "metadata": {},
   "source": [
    "##### There is a significant difference in vote average per casts. As most of the casts have only 1 or 2 appearances, I would like to focus on the casts with many appearances for further analysis. "
   ]
  },
  {
   "cell_type": "code",
   "execution_count": 37,
   "metadata": {},
   "outputs": [],
   "source": [
    "# Make a data frame grouped by cast\n",
    "df_cast_count = df_cast.groupby('cast').count().sort_values(by = 'original_title', ascending = False)"
   ]
  },
  {
   "cell_type": "code",
   "execution_count": 38,
   "metadata": {},
   "outputs": [
    {
     "data": {
      "text/html": [
       "<div>\n",
       "<style scoped>\n",
       "    .dataframe tbody tr th:only-of-type {\n",
       "        vertical-align: middle;\n",
       "    }\n",
       "\n",
       "    .dataframe tbody tr th {\n",
       "        vertical-align: top;\n",
       "    }\n",
       "\n",
       "    .dataframe thead th {\n",
       "        text-align: right;\n",
       "    }\n",
       "</style>\n",
       "<table border=\"1\" class=\"dataframe\">\n",
       "  <thead>\n",
       "    <tr style=\"text-align: right;\">\n",
       "      <th></th>\n",
       "      <th>popularity</th>\n",
       "      <th>budget</th>\n",
       "      <th>revenue</th>\n",
       "      <th>original_title</th>\n",
       "      <th>director</th>\n",
       "      <th>keywords</th>\n",
       "      <th>runtime</th>\n",
       "      <th>genres</th>\n",
       "      <th>production_companies</th>\n",
       "      <th>release_date</th>\n",
       "      <th>vote_count</th>\n",
       "      <th>vote_average</th>\n",
       "      <th>release_year</th>\n",
       "      <th>budget_adj</th>\n",
       "      <th>revenue_adj</th>\n",
       "    </tr>\n",
       "    <tr>\n",
       "      <th>cast</th>\n",
       "      <th></th>\n",
       "      <th></th>\n",
       "      <th></th>\n",
       "      <th></th>\n",
       "      <th></th>\n",
       "      <th></th>\n",
       "      <th></th>\n",
       "      <th></th>\n",
       "      <th></th>\n",
       "      <th></th>\n",
       "      <th></th>\n",
       "      <th></th>\n",
       "      <th></th>\n",
       "      <th></th>\n",
       "      <th></th>\n",
       "    </tr>\n",
       "  </thead>\n",
       "  <tbody>\n",
       "    <tr>\n",
       "      <th>Justin Long</th>\n",
       "      <td>14</td>\n",
       "      <td>6</td>\n",
       "      <td>7</td>\n",
       "      <td>14</td>\n",
       "      <td>14</td>\n",
       "      <td>13</td>\n",
       "      <td>14</td>\n",
       "      <td>14</td>\n",
       "      <td>12</td>\n",
       "      <td>14</td>\n",
       "      <td>14</td>\n",
       "      <td>14</td>\n",
       "      <td>14</td>\n",
       "      <td>6</td>\n",
       "      <td>7</td>\n",
       "    </tr>\n",
       "    <tr>\n",
       "      <th>Liam Neeson</th>\n",
       "      <td>14</td>\n",
       "      <td>7</td>\n",
       "      <td>8</td>\n",
       "      <td>14</td>\n",
       "      <td>14</td>\n",
       "      <td>13</td>\n",
       "      <td>14</td>\n",
       "      <td>14</td>\n",
       "      <td>12</td>\n",
       "      <td>14</td>\n",
       "      <td>14</td>\n",
       "      <td>14</td>\n",
       "      <td>14</td>\n",
       "      <td>7</td>\n",
       "      <td>8</td>\n",
       "    </tr>\n",
       "    <tr>\n",
       "      <th>James Franco</th>\n",
       "      <td>12</td>\n",
       "      <td>5</td>\n",
       "      <td>7</td>\n",
       "      <td>12</td>\n",
       "      <td>12</td>\n",
       "      <td>10</td>\n",
       "      <td>12</td>\n",
       "      <td>12</td>\n",
       "      <td>12</td>\n",
       "      <td>12</td>\n",
       "      <td>12</td>\n",
       "      <td>12</td>\n",
       "      <td>12</td>\n",
       "      <td>5</td>\n",
       "      <td>7</td>\n",
       "    </tr>\n",
       "  </tbody>\n",
       "</table>\n",
       "</div>"
      ],
      "text/plain": [
       "              popularity  budget  revenue  original_title  director  keywords  \\\n",
       "cast                                                                            \n",
       "Justin Long           14       6        7              14        14        13   \n",
       "Liam Neeson           14       7        8              14        14        13   \n",
       "James Franco          12       5        7              12        12        10   \n",
       "\n",
       "              runtime  genres  production_companies  release_date  vote_count  \\\n",
       "cast                                                                            \n",
       "Justin Long        14      14                    12            14          14   \n",
       "Liam Neeson        14      14                    12            14          14   \n",
       "James Franco       12      12                    12            12          12   \n",
       "\n",
       "              vote_average  release_year  budget_adj  revenue_adj  \n",
       "cast                                                               \n",
       "Justin Long             14            14           6            7  \n",
       "Liam Neeson             14            14           7            8  \n",
       "James Franco            12            12           5            7  "
      ]
     },
     "execution_count": 38,
     "metadata": {},
     "output_type": "execute_result"
    }
   ],
   "source": [
    "df_cast_count.head(3)"
   ]
  },
  {
   "cell_type": "code",
   "execution_count": 39,
   "metadata": {},
   "outputs": [],
   "source": [
    "# Make a data frame of cast with number of titles and vote average.\n",
    "df_cast_clearn = df_cast.groupby('cast').count().original_title.to_frame(name = 'number_of_title').reset_index()"
   ]
  },
  {
   "cell_type": "code",
   "execution_count": 40,
   "metadata": {},
   "outputs": [],
   "source": [
    "df_cast_clearn['vote_average'] = df_cast.groupby('cast').mean().vote_average.to_frame(name = 'vote_average').reset_index().iloc[:,1]"
   ]
  },
  {
   "cell_type": "code",
   "execution_count": 41,
   "metadata": {},
   "outputs": [
    {
     "data": {
      "text/html": [
       "<div>\n",
       "<style scoped>\n",
       "    .dataframe tbody tr th:only-of-type {\n",
       "        vertical-align: middle;\n",
       "    }\n",
       "\n",
       "    .dataframe tbody tr th {\n",
       "        vertical-align: top;\n",
       "    }\n",
       "\n",
       "    .dataframe thead th {\n",
       "        text-align: right;\n",
       "    }\n",
       "</style>\n",
       "<table border=\"1\" class=\"dataframe\">\n",
       "  <thead>\n",
       "    <tr style=\"text-align: right;\">\n",
       "      <th></th>\n",
       "      <th>cast</th>\n",
       "      <th>number_of_title</th>\n",
       "      <th>vote_average</th>\n",
       "    </tr>\n",
       "  </thead>\n",
       "  <tbody>\n",
       "    <tr>\n",
       "      <th>0</th>\n",
       "      <td>50 Cent</td>\n",
       "      <td>3</td>\n",
       "      <td>6.40</td>\n",
       "    </tr>\n",
       "    <tr>\n",
       "      <th>1</th>\n",
       "      <td>A Martinez</td>\n",
       "      <td>1</td>\n",
       "      <td>5.50</td>\n",
       "    </tr>\n",
       "    <tr>\n",
       "      <th>2</th>\n",
       "      <td>AJ Bowen</td>\n",
       "      <td>2</td>\n",
       "      <td>5.85</td>\n",
       "    </tr>\n",
       "  </tbody>\n",
       "</table>\n",
       "</div>"
      ],
      "text/plain": [
       "         cast  number_of_title  vote_average\n",
       "0     50 Cent                3          6.40\n",
       "1  A Martinez                1          5.50\n",
       "2    AJ Bowen                2          5.85"
      ]
     },
     "execution_count": 41,
     "metadata": {},
     "output_type": "execute_result"
    }
   ],
   "source": [
    "df_cast_clearn.head(3)"
   ]
  },
  {
   "cell_type": "code",
   "execution_count": 42,
   "metadata": {},
   "outputs": [
    {
     "data": {
      "text/html": [
       "<div>\n",
       "<style scoped>\n",
       "    .dataframe tbody tr th:only-of-type {\n",
       "        vertical-align: middle;\n",
       "    }\n",
       "\n",
       "    .dataframe tbody tr th {\n",
       "        vertical-align: top;\n",
       "    }\n",
       "\n",
       "    .dataframe thead th {\n",
       "        text-align: right;\n",
       "    }\n",
       "</style>\n",
       "<table border=\"1\" class=\"dataframe\">\n",
       "  <thead>\n",
       "    <tr style=\"text-align: right;\">\n",
       "      <th></th>\n",
       "      <th>cast</th>\n",
       "      <th>number_of_title</th>\n",
       "      <th>vote_average</th>\n",
       "    </tr>\n",
       "  </thead>\n",
       "  <tbody>\n",
       "    <tr>\n",
       "      <th>3327</th>\n",
       "      <td>Justin Long</td>\n",
       "      <td>14</td>\n",
       "      <td>6.021429</td>\n",
       "    </tr>\n",
       "    <tr>\n",
       "      <th>3821</th>\n",
       "      <td>Liam Neeson</td>\n",
       "      <td>14</td>\n",
       "      <td>6.378571</td>\n",
       "    </tr>\n",
       "    <tr>\n",
       "      <th>2648</th>\n",
       "      <td>James Franco</td>\n",
       "      <td>12</td>\n",
       "      <td>6.283333</td>\n",
       "    </tr>\n",
       "  </tbody>\n",
       "</table>\n",
       "</div>"
      ],
      "text/plain": [
       "              cast  number_of_title  vote_average\n",
       "3327   Justin Long               14      6.021429\n",
       "3821   Liam Neeson               14      6.378571\n",
       "2648  James Franco               12      6.283333"
      ]
     },
     "execution_count": 42,
     "metadata": {},
     "output_type": "execute_result"
    }
   ],
   "source": [
    "df_cast_clearn.sort_values(by = 'number_of_title', ascending = False).head(3)"
   ]
  },
  {
   "cell_type": "code",
   "execution_count": 43,
   "metadata": {},
   "outputs": [],
   "source": [
    "# Make a function to create a data frame and the cast list appeared in ore than N films.\n",
    "def top_cast(n):\n",
    "    cast_top = list(df_cast_count[df_cast_count['original_title'] >= n].index)\n",
    "    return df_cast[df_cast['cast'].isin(cast_top)].reset_index(drop = True), cast_top"
   ]
  },
  {
   "cell_type": "code",
   "execution_count": 44,
   "metadata": {},
   "outputs": [],
   "source": [
    "# Make a data frame of films with casts appeared in more than 10 films\n",
    "df_cast10, list_cast10 = top_cast(10)"
   ]
  },
  {
   "cell_type": "code",
   "execution_count": 45,
   "metadata": {},
   "outputs": [
    {
     "data": {
      "text/html": [
       "<div>\n",
       "<style scoped>\n",
       "    .dataframe tbody tr th:only-of-type {\n",
       "        vertical-align: middle;\n",
       "    }\n",
       "\n",
       "    .dataframe tbody tr th {\n",
       "        vertical-align: top;\n",
       "    }\n",
       "\n",
       "    .dataframe thead th {\n",
       "        text-align: right;\n",
       "    }\n",
       "</style>\n",
       "<table border=\"1\" class=\"dataframe\">\n",
       "  <thead>\n",
       "    <tr style=\"text-align: right;\">\n",
       "      <th></th>\n",
       "      <th>popularity</th>\n",
       "      <th>budget</th>\n",
       "      <th>revenue</th>\n",
       "      <th>original_title</th>\n",
       "      <th>director</th>\n",
       "      <th>keywords</th>\n",
       "      <th>runtime</th>\n",
       "      <th>genres</th>\n",
       "      <th>production_companies</th>\n",
       "      <th>release_date</th>\n",
       "      <th>vote_count</th>\n",
       "      <th>vote_average</th>\n",
       "      <th>release_year</th>\n",
       "      <th>budget_adj</th>\n",
       "      <th>revenue_adj</th>\n",
       "      <th>cast</th>\n",
       "    </tr>\n",
       "  </thead>\n",
       "  <tbody>\n",
       "    <tr>\n",
       "      <th>0</th>\n",
       "      <td>3.644541</td>\n",
       "      <td>58000000.0</td>\n",
       "      <td>150170815.0</td>\n",
       "      <td>Goosebumps</td>\n",
       "      <td>Rob Letterman</td>\n",
       "      <td>based on novel|magic|fantasy|family|3d</td>\n",
       "      <td>103.0</td>\n",
       "      <td>Adventure|Horror|Comedy</td>\n",
       "      <td>Columbia Pictures|Original Film|Scholastic Ent...</td>\n",
       "      <td>8/5/15</td>\n",
       "      <td>600</td>\n",
       "      <td>6.2</td>\n",
       "      <td>2015</td>\n",
       "      <td>5.335998e+07</td>\n",
       "      <td>1.381571e+08</td>\n",
       "      <td>J.K. Simmons</td>\n",
       "    </tr>\n",
       "    <tr>\n",
       "      <th>1</th>\n",
       "      <td>3.358321</td>\n",
       "      <td>NaN</td>\n",
       "      <td>22354572.0</td>\n",
       "      <td>Solace</td>\n",
       "      <td>Afonso Poyart</td>\n",
       "      <td>thriller|serial killer|psychic|fbi agent|intrigue</td>\n",
       "      <td>101.0</td>\n",
       "      <td>Crime|Drama|Mystery</td>\n",
       "      <td>Eden Rock Media|FilmNation Entertainment|Flynn...</td>\n",
       "      <td>9/3/15</td>\n",
       "      <td>474</td>\n",
       "      <td>6.2</td>\n",
       "      <td>2015</td>\n",
       "      <td>NaN</td>\n",
       "      <td>2.056620e+07</td>\n",
       "      <td>Jessica Chastain</td>\n",
       "    </tr>\n",
       "    <tr>\n",
       "      <th>2</th>\n",
       "      <td>3.339135</td>\n",
       "      <td>175000000.0</td>\n",
       "      <td>331926147.0</td>\n",
       "      <td>The Good Dinosaur</td>\n",
       "      <td>Peter Sohn</td>\n",
       "      <td>tyrannosaurus rex|friends|animation|alternate ...</td>\n",
       "      <td>93.0</td>\n",
       "      <td>Adventure|Animation|Comedy|Family|Fantasy</td>\n",
       "      <td>Walt Disney Pictures|Pixar Animation Studios|B...</td>\n",
       "      <td>11/14/15</td>\n",
       "      <td>1087</td>\n",
       "      <td>6.6</td>\n",
       "      <td>2015</td>\n",
       "      <td>1.609999e+08</td>\n",
       "      <td>3.053719e+08</td>\n",
       "      <td>Kristen Wiig</td>\n",
       "    </tr>\n",
       "  </tbody>\n",
       "</table>\n",
       "</div>"
      ],
      "text/plain": [
       "   popularity       budget      revenue     original_title       director  \\\n",
       "0    3.644541   58000000.0  150170815.0         Goosebumps  Rob Letterman   \n",
       "1    3.358321          NaN   22354572.0             Solace  Afonso Poyart   \n",
       "2    3.339135  175000000.0  331926147.0  The Good Dinosaur     Peter Sohn   \n",
       "\n",
       "                                            keywords  runtime  \\\n",
       "0             based on novel|magic|fantasy|family|3d    103.0   \n",
       "1  thriller|serial killer|psychic|fbi agent|intrigue    101.0   \n",
       "2  tyrannosaurus rex|friends|animation|alternate ...     93.0   \n",
       "\n",
       "                                      genres  \\\n",
       "0                    Adventure|Horror|Comedy   \n",
       "1                        Crime|Drama|Mystery   \n",
       "2  Adventure|Animation|Comedy|Family|Fantasy   \n",
       "\n",
       "                                production_companies release_date  vote_count  \\\n",
       "0  Columbia Pictures|Original Film|Scholastic Ent...       8/5/15         600   \n",
       "1  Eden Rock Media|FilmNation Entertainment|Flynn...       9/3/15         474   \n",
       "2  Walt Disney Pictures|Pixar Animation Studios|B...     11/14/15        1087   \n",
       "\n",
       "   vote_average  release_year    budget_adj   revenue_adj              cast  \n",
       "0           6.2          2015  5.335998e+07  1.381571e+08      J.K. Simmons  \n",
       "1           6.2          2015           NaN  2.056620e+07  Jessica Chastain  \n",
       "2           6.6          2015  1.609999e+08  3.053719e+08      Kristen Wiig  "
      ]
     },
     "execution_count": 45,
     "metadata": {},
     "output_type": "execute_result"
    }
   ],
   "source": [
    "df_cast10.head(3)"
   ]
  },
  {
   "cell_type": "code",
   "execution_count": 46,
   "metadata": {},
   "outputs": [
    {
     "data": {
      "text/plain": [
       "['Justin Long',\n",
       " 'Liam Neeson',\n",
       " 'James Franco',\n",
       " 'Samuel L. Jackson',\n",
       " 'Nicolas Cage',\n",
       " 'Kristen Wiig',\n",
       " 'Sam Rockwell',\n",
       " 'Brendan Gleeson',\n",
       " 'Jessica Chastain',\n",
       " 'Robert De Niro',\n",
       " 'Bradley Cooper',\n",
       " 'Alfred Molina',\n",
       " 'Ben Kingsley',\n",
       " 'James Marsden',\n",
       " 'Danny Trejo',\n",
       " 'Bill Nighy',\n",
       " 'Jason Bateman',\n",
       " 'Ron Perlman',\n",
       " 'Jesse Eisenberg',\n",
       " 'Seth Rogen',\n",
       " 'Michael Fassbender',\n",
       " 'Julianne Moore',\n",
       " 'Sam Worthington',\n",
       " 'Anna Kendrick',\n",
       " 'Rosario Dawson',\n",
       " 'Kristen Stewart',\n",
       " 'Rachel McAdams',\n",
       " 'Joseph Gordon-Levitt',\n",
       " 'Danny Glover',\n",
       " 'Colin Farrell',\n",
       " 'Ray Liotta',\n",
       " 'J.K. Simmons',\n",
       " 'Amanda Seyfried',\n",
       " 'ChloÃ« Grace Moretz',\n",
       " 'Adrien Brody']"
      ]
     },
     "execution_count": 46,
     "metadata": {},
     "output_type": "execute_result"
    }
   ],
   "source": [
    "list_cast10"
   ]
  },
  {
   "cell_type": "code",
   "execution_count": 82,
   "metadata": {},
   "outputs": [
    {
     "data": {
      "image/png": "[encoded data removed]",
      "text/plain": [
       "<Figure size 1440x360 with 1 Axes>"
      ]
     },
     "metadata": {
      "needs_background": "light"
     },
     "output_type": "display_data"
    }
   ],
   "source": [
    "# Plot the vote avarage by cast in descending order of the appearance from the left.\n",
    "plt.figure(figsize=(20,5))\n",
    "sns.boxplot(df_cast10.cast, df_cast10.vote_average, order = list_cast10)\n",
    "plt.title('Box Plot of Vote Average by cast', fontsize = 20)\n",
    "plt.xlabel('cast', fontsize = 15)\n",
    "plt.ylabel('Vote Average', fontsize = 15)\n",
    "plt.xticks(rotation = 90)\n",
    "plt.show()"
   ]
  },
  {
   "cell_type": "markdown",
   "metadata": {},
   "source": [
    "##### There is a significant difference in vote average per cast."
   ]
  },
  {
   "cell_type": "code",
   "execution_count": 48,
   "metadata": {},
   "outputs": [
    {
     "data": {
      "text/plain": [
       "count    373.000000\n",
       "mean       6.016622\n",
       "std        0.892557\n",
       "min        2.100000\n",
       "25%        5.400000\n",
       "50%        6.000000\n",
       "75%        6.600000\n",
       "max        8.300000\n",
       "Name: vote_average, dtype: float64"
      ]
     },
     "execution_count": 48,
     "metadata": {},
     "output_type": "execute_result"
    }
   ],
   "source": [
    "df_cast10.vote_average.describe()"
   ]
  },
  {
   "cell_type": "code",
   "execution_count": 49,
   "metadata": {},
   "outputs": [
    {
     "data": {
      "text/plain": [
       "0.08794145316528812"
      ]
     },
     "execution_count": 49,
     "metadata": {},
     "output_type": "execute_result"
    }
   ],
   "source": [
    "# Check variance of the casts appeared in more than 10 films\n",
    "statistics.variance(df_cast10.groupby('cast').mean().vote_average)"
   ]
  },
  {
   "cell_type": "code",
   "execution_count": 50,
   "metadata": {},
   "outputs": [],
   "source": [
    "df_cast10_dummy = pd.get_dummies(df_cast10, columns = ['cast'])"
   ]
  },
  {
   "cell_type": "code",
   "execution_count": 51,
   "metadata": {},
   "outputs": [
    {
     "data": {
      "text/html": [
       "<div>\n",
       "<style scoped>\n",
       "    .dataframe tbody tr th:only-of-type {\n",
       "        vertical-align: middle;\n",
       "    }\n",
       "\n",
       "    .dataframe tbody tr th {\n",
       "        vertical-align: top;\n",
       "    }\n",
       "\n",
       "    .dataframe thead th {\n",
       "        text-align: right;\n",
       "    }\n",
       "</style>\n",
       "<table border=\"1\" class=\"dataframe\">\n",
       "  <thead>\n",
       "    <tr style=\"text-align: right;\">\n",
       "      <th></th>\n",
       "      <th>popularity</th>\n",
       "      <th>budget</th>\n",
       "      <th>revenue</th>\n",
       "      <th>original_title</th>\n",
       "      <th>director</th>\n",
       "      <th>keywords</th>\n",
       "      <th>runtime</th>\n",
       "      <th>genres</th>\n",
       "      <th>production_companies</th>\n",
       "      <th>release_date</th>\n",
       "      <th>...</th>\n",
       "      <th>cast_Nicolas Cage</th>\n",
       "      <th>cast_Rachel McAdams</th>\n",
       "      <th>cast_Ray Liotta</th>\n",
       "      <th>cast_Robert De Niro</th>\n",
       "      <th>cast_Ron Perlman</th>\n",
       "      <th>cast_Rosario Dawson</th>\n",
       "      <th>cast_Sam Rockwell</th>\n",
       "      <th>cast_Sam Worthington</th>\n",
       "      <th>cast_Samuel L. Jackson</th>\n",
       "      <th>cast_Seth Rogen</th>\n",
       "    </tr>\n",
       "  </thead>\n",
       "  <tbody>\n",
       "    <tr>\n",
       "      <th>0</th>\n",
       "      <td>3.644541</td>\n",
       "      <td>58000000.0</td>\n",
       "      <td>150170815.0</td>\n",
       "      <td>Goosebumps</td>\n",
       "      <td>Rob Letterman</td>\n",
       "      <td>based on novel|magic|fantasy|family|3d</td>\n",
       "      <td>103.0</td>\n",
       "      <td>Adventure|Horror|Comedy</td>\n",
       "      <td>Columbia Pictures|Original Film|Scholastic Ent...</td>\n",
       "      <td>8/5/15</td>\n",
       "      <td>...</td>\n",
       "      <td>0</td>\n",
       "      <td>0</td>\n",
       "      <td>0</td>\n",
       "      <td>0</td>\n",
       "      <td>0</td>\n",
       "      <td>0</td>\n",
       "      <td>0</td>\n",
       "      <td>0</td>\n",
       "      <td>0</td>\n",
       "      <td>0</td>\n",
       "    </tr>\n",
       "    <tr>\n",
       "      <th>1</th>\n",
       "      <td>3.358321</td>\n",
       "      <td>NaN</td>\n",
       "      <td>22354572.0</td>\n",
       "      <td>Solace</td>\n",
       "      <td>Afonso Poyart</td>\n",
       "      <td>thriller|serial killer|psychic|fbi agent|intrigue</td>\n",
       "      <td>101.0</td>\n",
       "      <td>Crime|Drama|Mystery</td>\n",
       "      <td>Eden Rock Media|FilmNation Entertainment|Flynn...</td>\n",
       "      <td>9/3/15</td>\n",
       "      <td>...</td>\n",
       "      <td>0</td>\n",
       "      <td>0</td>\n",
       "      <td>0</td>\n",
       "      <td>0</td>\n",
       "      <td>0</td>\n",
       "      <td>0</td>\n",
       "      <td>0</td>\n",
       "      <td>0</td>\n",
       "      <td>0</td>\n",
       "      <td>0</td>\n",
       "    </tr>\n",
       "    <tr>\n",
       "      <th>2</th>\n",
       "      <td>3.339135</td>\n",
       "      <td>175000000.0</td>\n",
       "      <td>331926147.0</td>\n",
       "      <td>The Good Dinosaur</td>\n",
       "      <td>Peter Sohn</td>\n",
       "      <td>tyrannosaurus rex|friends|animation|alternate ...</td>\n",
       "      <td>93.0</td>\n",
       "      <td>Adventure|Animation|Comedy|Family|Fantasy</td>\n",
       "      <td>Walt Disney Pictures|Pixar Animation Studios|B...</td>\n",
       "      <td>11/14/15</td>\n",
       "      <td>...</td>\n",
       "      <td>0</td>\n",
       "      <td>0</td>\n",
       "      <td>0</td>\n",
       "      <td>0</td>\n",
       "      <td>0</td>\n",
       "      <td>0</td>\n",
       "      <td>0</td>\n",
       "      <td>0</td>\n",
       "      <td>0</td>\n",
       "      <td>0</td>\n",
       "    </tr>\n",
       "  </tbody>\n",
       "</table>\n",
       "<p>3 rows × 50 columns</p>\n",
       "</div>"
      ],
      "text/plain": [
       "   popularity       budget      revenue     original_title       director  \\\n",
       "0    3.644541   58000000.0  150170815.0         Goosebumps  Rob Letterman   \n",
       "1    3.358321          NaN   22354572.0             Solace  Afonso Poyart   \n",
       "2    3.339135  175000000.0  331926147.0  The Good Dinosaur     Peter Sohn   \n",
       "\n",
       "                                            keywords  runtime  \\\n",
       "0             based on novel|magic|fantasy|family|3d    103.0   \n",
       "1  thriller|serial killer|psychic|fbi agent|intrigue    101.0   \n",
       "2  tyrannosaurus rex|friends|animation|alternate ...     93.0   \n",
       "\n",
       "                                      genres  \\\n",
       "0                    Adventure|Horror|Comedy   \n",
       "1                        Crime|Drama|Mystery   \n",
       "2  Adventure|Animation|Comedy|Family|Fantasy   \n",
       "\n",
       "                                production_companies release_date  \\\n",
       "0  Columbia Pictures|Original Film|Scholastic Ent...       8/5/15   \n",
       "1  Eden Rock Media|FilmNation Entertainment|Flynn...       9/3/15   \n",
       "2  Walt Disney Pictures|Pixar Animation Studios|B...     11/14/15   \n",
       "\n",
       "        ...         cast_Nicolas Cage  cast_Rachel McAdams  cast_Ray Liotta  \\\n",
       "0       ...                         0                    0                0   \n",
       "1       ...                         0                    0                0   \n",
       "2       ...                         0                    0                0   \n",
       "\n",
       "   cast_Robert De Niro  cast_Ron Perlman  cast_Rosario Dawson  \\\n",
       "0                    0                 0                    0   \n",
       "1                    0                 0                    0   \n",
       "2                    0                 0                    0   \n",
       "\n",
       "   cast_Sam Rockwell  cast_Sam Worthington  cast_Samuel L. Jackson  \\\n",
       "0                  0                     0                       0   \n",
       "1                  0                     0                       0   \n",
       "2                  0                     0                       0   \n",
       "\n",
       "   cast_Seth Rogen  \n",
       "0                0  \n",
       "1                0  \n",
       "2                0  \n",
       "\n",
       "[3 rows x 50 columns]"
      ]
     },
     "execution_count": 51,
     "metadata": {},
     "output_type": "execute_result"
    }
   ],
   "source": [
    "df_cast10_dummy.head(3)"
   ]
  },
  {
   "cell_type": "code",
   "execution_count": 52,
   "metadata": {},
   "outputs": [
    {
     "data": {
      "text/html": [
       "<div>\n",
       "<style scoped>\n",
       "    .dataframe tbody tr th:only-of-type {\n",
       "        vertical-align: middle;\n",
       "    }\n",
       "\n",
       "    .dataframe tbody tr th {\n",
       "        vertical-align: top;\n",
       "    }\n",
       "\n",
       "    .dataframe thead th {\n",
       "        text-align: right;\n",
       "    }\n",
       "</style>\n",
       "<table border=\"1\" class=\"dataframe\">\n",
       "  <thead>\n",
       "    <tr style=\"text-align: right;\">\n",
       "      <th></th>\n",
       "      <th>cast_Adrien Brody</th>\n",
       "      <th>cast_Alfred Molina</th>\n",
       "      <th>cast_Amanda Seyfried</th>\n",
       "      <th>cast_Anna Kendrick</th>\n",
       "      <th>cast_Ben Kingsley</th>\n",
       "      <th>cast_Bill Nighy</th>\n",
       "      <th>cast_Bradley Cooper</th>\n",
       "      <th>cast_Brendan Gleeson</th>\n",
       "      <th>cast_ChloÃ« Grace Moretz</th>\n",
       "      <th>cast_Colin Farrell</th>\n",
       "      <th>...</th>\n",
       "      <th>cast_Nicolas Cage</th>\n",
       "      <th>cast_Rachel McAdams</th>\n",
       "      <th>cast_Ray Liotta</th>\n",
       "      <th>cast_Robert De Niro</th>\n",
       "      <th>cast_Ron Perlman</th>\n",
       "      <th>cast_Rosario Dawson</th>\n",
       "      <th>cast_Sam Rockwell</th>\n",
       "      <th>cast_Sam Worthington</th>\n",
       "      <th>cast_Samuel L. Jackson</th>\n",
       "      <th>cast_Seth Rogen</th>\n",
       "    </tr>\n",
       "  </thead>\n",
       "  <tbody>\n",
       "    <tr>\n",
       "      <th>0</th>\n",
       "      <td>0</td>\n",
       "      <td>0</td>\n",
       "      <td>0</td>\n",
       "      <td>0</td>\n",
       "      <td>0</td>\n",
       "      <td>0</td>\n",
       "      <td>0</td>\n",
       "      <td>0</td>\n",
       "      <td>0</td>\n",
       "      <td>0</td>\n",
       "      <td>...</td>\n",
       "      <td>0</td>\n",
       "      <td>0</td>\n",
       "      <td>0</td>\n",
       "      <td>0</td>\n",
       "      <td>0</td>\n",
       "      <td>0</td>\n",
       "      <td>0</td>\n",
       "      <td>0</td>\n",
       "      <td>0</td>\n",
       "      <td>0</td>\n",
       "    </tr>\n",
       "    <tr>\n",
       "      <th>1</th>\n",
       "      <td>0</td>\n",
       "      <td>0</td>\n",
       "      <td>0</td>\n",
       "      <td>0</td>\n",
       "      <td>0</td>\n",
       "      <td>0</td>\n",
       "      <td>0</td>\n",
       "      <td>0</td>\n",
       "      <td>0</td>\n",
       "      <td>0</td>\n",
       "      <td>...</td>\n",
       "      <td>0</td>\n",
       "      <td>0</td>\n",
       "      <td>0</td>\n",
       "      <td>0</td>\n",
       "      <td>0</td>\n",
       "      <td>0</td>\n",
       "      <td>0</td>\n",
       "      <td>0</td>\n",
       "      <td>0</td>\n",
       "      <td>0</td>\n",
       "    </tr>\n",
       "    <tr>\n",
       "      <th>2</th>\n",
       "      <td>0</td>\n",
       "      <td>0</td>\n",
       "      <td>0</td>\n",
       "      <td>0</td>\n",
       "      <td>0</td>\n",
       "      <td>0</td>\n",
       "      <td>0</td>\n",
       "      <td>0</td>\n",
       "      <td>0</td>\n",
       "      <td>0</td>\n",
       "      <td>...</td>\n",
       "      <td>0</td>\n",
       "      <td>0</td>\n",
       "      <td>0</td>\n",
       "      <td>0</td>\n",
       "      <td>0</td>\n",
       "      <td>0</td>\n",
       "      <td>0</td>\n",
       "      <td>0</td>\n",
       "      <td>0</td>\n",
       "      <td>0</td>\n",
       "    </tr>\n",
       "  </tbody>\n",
       "</table>\n",
       "<p>3 rows × 35 columns</p>\n",
       "</div>"
      ],
      "text/plain": [
       "   cast_Adrien Brody  cast_Alfred Molina  cast_Amanda Seyfried  \\\n",
       "0                  0                   0                     0   \n",
       "1                  0                   0                     0   \n",
       "2                  0                   0                     0   \n",
       "\n",
       "   cast_Anna Kendrick  cast_Ben Kingsley  cast_Bill Nighy  \\\n",
       "0                   0                  0                0   \n",
       "1                   0                  0                0   \n",
       "2                   0                  0                0   \n",
       "\n",
       "   cast_Bradley Cooper  cast_Brendan Gleeson  cast_ChloÃ« Grace Moretz  \\\n",
       "0                    0                     0                         0   \n",
       "1                    0                     0                         0   \n",
       "2                    0                     0                         0   \n",
       "\n",
       "   cast_Colin Farrell       ...         cast_Nicolas Cage  \\\n",
       "0                   0       ...                         0   \n",
       "1                   0       ...                         0   \n",
       "2                   0       ...                         0   \n",
       "\n",
       "   cast_Rachel McAdams  cast_Ray Liotta  cast_Robert De Niro  \\\n",
       "0                    0                0                    0   \n",
       "1                    0                0                    0   \n",
       "2                    0                0                    0   \n",
       "\n",
       "   cast_Ron Perlman  cast_Rosario Dawson  cast_Sam Rockwell  \\\n",
       "0                 0                    0                  0   \n",
       "1                 0                    0                  0   \n",
       "2                 0                    0                  0   \n",
       "\n",
       "   cast_Sam Worthington  cast_Samuel L. Jackson  cast_Seth Rogen  \n",
       "0                     0                       0                0  \n",
       "1                     0                       0                0  \n",
       "2                     0                       0                0  \n",
       "\n",
       "[3 rows x 35 columns]"
      ]
     },
     "execution_count": 52,
     "metadata": {},
     "output_type": "execute_result"
    }
   ],
   "source": [
    "df_cast10_dummy.iloc[:, 15:].head(3)\n",
    "# Cast list starts from column 15."
   ]
  },
  {
   "cell_type": "code",
   "execution_count": 53,
   "metadata": {},
   "outputs": [],
   "source": [
    "# Find the correlation coefficient between cast and vote average\n",
    "cast_coef = df_cast10_dummy.iloc[:, 15:].corrwith(df_cast10_dummy['vote_average']).sort_values( ascending= False)"
   ]
  },
  {
   "cell_type": "code",
   "execution_count": 54,
   "metadata": {},
   "outputs": [
    {
     "data": {
      "text/plain": [
       "cast_Joseph Gordon-Levitt    0.112353\n",
       "cast_Jesse Eisenberg         0.090008\n",
       "cast_Liam Neeson             0.080188\n",
       "cast_Danny Trejo             0.063939\n",
       "cast_Michael Fassbender      0.058353\n",
       "cast_James Franco            0.054554\n",
       "cast_Brendan Gleeson         0.053641\n",
       "cast_Sam Worthington         0.047180\n",
       "cast_Samuel L. Jackson       0.040918\n",
       "cast_Kristen Stewart         0.036008\n",
       "cast_J.K. Simmons            0.036008\n",
       "cast_Colin Farrell           0.034146\n",
       "cast_Rosario Dawson          0.028560\n",
       "cast_Sam Rockwell            0.019861\n",
       "cast_Adrien Brody            0.008077\n",
       "cast_Kristen Wiig            0.007416\n",
       "cast_Justin Long             0.001065\n",
       "cast_Bill Nighy              0.000629\n",
       "cast_Jason Bateman          -0.008681\n",
       "cast_Jessica Chastain       -0.012140\n",
       "cast_Seth Rogen             -0.012405\n",
       "cast_Alfred Molina          -0.013918\n",
       "cast_Julianne Moore         -0.016130\n",
       "cast_Ray Liotta             -0.017992\n",
       "cast_Danny Glover           -0.019854\n",
       "cast_Anna Kendrick          -0.027302\n",
       "cast_Robert De Niro         -0.028141\n",
       "cast_James Marsden          -0.037030\n",
       "cast_Amanda Seyfried        -0.044060\n",
       "cast_Nicolas Cage           -0.057945\n",
       "cast_Rachel McAdams         -0.060819\n",
       "cast_Ben Kingsley           -0.076143\n",
       "cast_Ron Perlman            -0.114819\n",
       "cast_Bradley Cooper         -0.115256\n",
       "cast_ChloÃ« Grace Moretz    -0.118543\n",
       "dtype: float64"
      ]
     },
     "execution_count": 54,
     "metadata": {},
     "output_type": "execute_result"
    }
   ],
   "source": [
    "cast_coef"
   ]
  },
  {
   "cell_type": "code",
   "execution_count": 55,
   "metadata": {},
   "outputs": [
    {
     "data": {
      "text/plain": [
       "count    35.000000\n",
       "mean      0.044402\n",
       "std       0.034411\n",
       "min       0.000629\n",
       "25%       0.017061\n",
       "50%       0.036008\n",
       "75%       0.059586\n",
       "max       0.118543\n",
       "dtype: float64"
      ]
     },
     "execution_count": 55,
     "metadata": {},
     "output_type": "execute_result"
    }
   ],
   "source": [
    "np.absolute(cast_coef).describe()"
   ]
  },
  {
   "cell_type": "markdown",
   "metadata": {},
   "source": [
    "##### The correlation is relatively weak. "
   ]
  },
  {
   "cell_type": "markdown",
   "metadata": {},
   "source": [
    "### Q4: Are directors associated with the vote average?"
   ]
  },
  {
   "cell_type": "code",
   "execution_count": 56,
   "metadata": {},
   "outputs": [
    {
     "data": {
      "text/plain": [
       "5067"
      ]
     },
     "execution_count": 56,
     "metadata": {},
     "output_type": "execute_result"
    }
   ],
   "source": [
    "# Check the number of the unique values \n",
    "df['director'].nunique()"
   ]
  },
  {
   "cell_type": "code",
   "execution_count": 57,
   "metadata": {},
   "outputs": [
    {
     "data": {
      "text/plain": [
       "count    5067.000000\n",
       "mean        2.135583\n",
       "std         2.528006\n",
       "min         1.000000\n",
       "25%         1.000000\n",
       "50%         1.000000\n",
       "75%         2.000000\n",
       "max        45.000000\n",
       "Name: original_title, dtype: float64"
      ]
     },
     "execution_count": 57,
     "metadata": {},
     "output_type": "execute_result"
    }
   ],
   "source": [
    "# Check descriptive statistics of number of films by director\n",
    "df.groupby('director').count().sort_values(by = 'original_title', ascending = False).original_title.describe()"
   ]
  },
  {
   "cell_type": "markdown",
   "metadata": {},
   "source": [
    "##### Most of the director have only 1 film."
   ]
  },
  {
   "cell_type": "code",
   "execution_count": 58,
   "metadata": {},
   "outputs": [
    {
     "data": {
      "text/plain": [
       "count    5067.000000\n",
       "mean        5.892041\n",
       "std         0.925625\n",
       "min         1.500000\n",
       "25%         5.350000\n",
       "50%         5.950000\n",
       "75%         6.500000\n",
       "max         9.200000\n",
       "Name: vote_average, dtype: float64"
      ]
     },
     "execution_count": 58,
     "metadata": {},
     "output_type": "execute_result"
    }
   ],
   "source": [
    "# Check descriptive statistics of vote avarage by director\n",
    "df.groupby('director').mean().describe().vote_average"
   ]
  },
  {
   "cell_type": "code",
   "execution_count": 59,
   "metadata": {},
   "outputs": [
    {
     "data": {
      "text/plain": [
       "0.8567823598469511"
      ]
     },
     "execution_count": 59,
     "metadata": {},
     "output_type": "execute_result"
    }
   ],
   "source": [
    "# Check variance of top 10\n",
    "statistics.variance(df.groupby('director').mean().vote_average)"
   ]
  },
  {
   "cell_type": "code",
   "execution_count": 60,
   "metadata": {},
   "outputs": [
    {
     "data": {
      "image/png": "[encoded data removed]",
      "text/plain": [
       "<Figure size 432x288 with 1 Axes>"
      ]
     },
     "metadata": {
      "needs_background": "light"
     },
     "output_type": "display_data"
    }
   ],
   "source": [
    "# Plot the vote average\n",
    "ax = sns.violinplot(df.groupby('director').mean().vote_average, inner = 'quartile', color = 'white')\n",
    "ax.set_title('Violinplot of the vote average by director');"
   ]
  },
  {
   "cell_type": "code",
   "execution_count": 61,
   "metadata": {},
   "outputs": [],
   "source": [
    "# Make a data frame grouped by director\n",
    "df_direct_count = df.groupby('director').count().sort_values(by = 'original_title', ascending = False)"
   ]
  },
  {
   "cell_type": "code",
   "execution_count": 62,
   "metadata": {},
   "outputs": [
    {
     "data": {
      "text/html": [
       "<div>\n",
       "<style scoped>\n",
       "    .dataframe tbody tr th:only-of-type {\n",
       "        vertical-align: middle;\n",
       "    }\n",
       "\n",
       "    .dataframe tbody tr th {\n",
       "        vertical-align: top;\n",
       "    }\n",
       "\n",
       "    .dataframe thead th {\n",
       "        text-align: right;\n",
       "    }\n",
       "</style>\n",
       "<table border=\"1\" class=\"dataframe\">\n",
       "  <thead>\n",
       "    <tr style=\"text-align: right;\">\n",
       "      <th></th>\n",
       "      <th>popularity</th>\n",
       "      <th>budget</th>\n",
       "      <th>revenue</th>\n",
       "      <th>original_title</th>\n",
       "      <th>cast</th>\n",
       "      <th>keywords</th>\n",
       "      <th>runtime</th>\n",
       "      <th>genres</th>\n",
       "      <th>production_companies</th>\n",
       "      <th>release_date</th>\n",
       "      <th>vote_count</th>\n",
       "      <th>vote_average</th>\n",
       "      <th>release_year</th>\n",
       "      <th>budget_adj</th>\n",
       "      <th>revenue_adj</th>\n",
       "    </tr>\n",
       "    <tr>\n",
       "      <th>director</th>\n",
       "      <th></th>\n",
       "      <th></th>\n",
       "      <th></th>\n",
       "      <th></th>\n",
       "      <th></th>\n",
       "      <th></th>\n",
       "      <th></th>\n",
       "      <th></th>\n",
       "      <th></th>\n",
       "      <th></th>\n",
       "      <th></th>\n",
       "      <th></th>\n",
       "      <th></th>\n",
       "      <th></th>\n",
       "      <th></th>\n",
       "    </tr>\n",
       "  </thead>\n",
       "  <tbody>\n",
       "    <tr>\n",
       "      <th>Woody Allen</th>\n",
       "      <td>45</td>\n",
       "      <td>25</td>\n",
       "      <td>22</td>\n",
       "      <td>45</td>\n",
       "      <td>45</td>\n",
       "      <td>43</td>\n",
       "      <td>45</td>\n",
       "      <td>45</td>\n",
       "      <td>42</td>\n",
       "      <td>45</td>\n",
       "      <td>45</td>\n",
       "      <td>45</td>\n",
       "      <td>45</td>\n",
       "      <td>25</td>\n",
       "      <td>22</td>\n",
       "    </tr>\n",
       "    <tr>\n",
       "      <th>Clint Eastwood</th>\n",
       "      <td>34</td>\n",
       "      <td>24</td>\n",
       "      <td>26</td>\n",
       "      <td>34</td>\n",
       "      <td>34</td>\n",
       "      <td>33</td>\n",
       "      <td>34</td>\n",
       "      <td>34</td>\n",
       "      <td>34</td>\n",
       "      <td>34</td>\n",
       "      <td>34</td>\n",
       "      <td>34</td>\n",
       "      <td>34</td>\n",
       "      <td>24</td>\n",
       "      <td>26</td>\n",
       "    </tr>\n",
       "    <tr>\n",
       "      <th>Martin Scorsese</th>\n",
       "      <td>29</td>\n",
       "      <td>21</td>\n",
       "      <td>18</td>\n",
       "      <td>29</td>\n",
       "      <td>28</td>\n",
       "      <td>28</td>\n",
       "      <td>29</td>\n",
       "      <td>29</td>\n",
       "      <td>26</td>\n",
       "      <td>29</td>\n",
       "      <td>29</td>\n",
       "      <td>29</td>\n",
       "      <td>29</td>\n",
       "      <td>21</td>\n",
       "      <td>18</td>\n",
       "    </tr>\n",
       "  </tbody>\n",
       "</table>\n",
       "</div>"
      ],
      "text/plain": [
       "                 popularity  budget  revenue  original_title  cast  keywords  \\\n",
       "director                                                                       \n",
       "Woody Allen              45      25       22              45    45        43   \n",
       "Clint Eastwood           34      24       26              34    34        33   \n",
       "Martin Scorsese          29      21       18              29    28        28   \n",
       "\n",
       "                 runtime  genres  production_companies  release_date  \\\n",
       "director                                                               \n",
       "Woody Allen           45      45                    42            45   \n",
       "Clint Eastwood        34      34                    34            34   \n",
       "Martin Scorsese       29      29                    26            29   \n",
       "\n",
       "                 vote_count  vote_average  release_year  budget_adj  \\\n",
       "director                                                              \n",
       "Woody Allen              45            45            45          25   \n",
       "Clint Eastwood           34            34            34          24   \n",
       "Martin Scorsese          29            29            29          21   \n",
       "\n",
       "                 revenue_adj  \n",
       "director                      \n",
       "Woody Allen               22  \n",
       "Clint Eastwood            26  \n",
       "Martin Scorsese           18  "
      ]
     },
     "execution_count": 62,
     "metadata": {},
     "output_type": "execute_result"
    }
   ],
   "source": [
    "df_direct_count.head(3)"
   ]
  },
  {
   "cell_type": "code",
   "execution_count": 63,
   "metadata": {},
   "outputs": [],
   "source": [
    "# Make a data frame of director with number of films and vote average.\n",
    "df_director_clearn= df.groupby('director')['original_title'].count().to_frame(name = 'number_of_title').reset_index()"
   ]
  },
  {
   "cell_type": "code",
   "execution_count": 64,
   "metadata": {},
   "outputs": [
    {
     "data": {
      "text/html": [
       "<div>\n",
       "<style scoped>\n",
       "    .dataframe tbody tr th:only-of-type {\n",
       "        vertical-align: middle;\n",
       "    }\n",
       "\n",
       "    .dataframe tbody tr th {\n",
       "        vertical-align: top;\n",
       "    }\n",
       "\n",
       "    .dataframe thead th {\n",
       "        text-align: right;\n",
       "    }\n",
       "</style>\n",
       "<table border=\"1\" class=\"dataframe\">\n",
       "  <thead>\n",
       "    <tr style=\"text-align: right;\">\n",
       "      <th></th>\n",
       "      <th>director</th>\n",
       "      <th>number_of_title</th>\n",
       "    </tr>\n",
       "  </thead>\n",
       "  <tbody>\n",
       "    <tr>\n",
       "      <th>0</th>\n",
       "      <td>FrÃ©dÃ©ric Jardin</td>\n",
       "      <td>1</td>\n",
       "    </tr>\n",
       "    <tr>\n",
       "      <th>1</th>\n",
       "      <td>A. Todd Smith</td>\n",
       "      <td>1</td>\n",
       "    </tr>\n",
       "    <tr>\n",
       "      <th>2</th>\n",
       "      <td>A.R. Murugadoss</td>\n",
       "      <td>1</td>\n",
       "    </tr>\n",
       "  </tbody>\n",
       "</table>\n",
       "</div>"
      ],
      "text/plain": [
       "             director  number_of_title\n",
       "0   FrÃ©dÃ©ric Jardin                1\n",
       "1       A. Todd Smith                1\n",
       "2     A.R. Murugadoss                1"
      ]
     },
     "execution_count": 64,
     "metadata": {},
     "output_type": "execute_result"
    }
   ],
   "source": [
    "df_director_clearn.head(3)"
   ]
  },
  {
   "cell_type": "code",
   "execution_count": 65,
   "metadata": {},
   "outputs": [],
   "source": [
    "df_director_clearn['vote_average'] = df.groupby('director').mean().vote_average.to_frame(name = 'vote_average').reset_index().iloc[:,1]"
   ]
  },
  {
   "cell_type": "code",
   "execution_count": 66,
   "metadata": {},
   "outputs": [
    {
     "data": {
      "text/html": [
       "<div>\n",
       "<style scoped>\n",
       "    .dataframe tbody tr th:only-of-type {\n",
       "        vertical-align: middle;\n",
       "    }\n",
       "\n",
       "    .dataframe tbody tr th {\n",
       "        vertical-align: top;\n",
       "    }\n",
       "\n",
       "    .dataframe thead th {\n",
       "        text-align: right;\n",
       "    }\n",
       "</style>\n",
       "<table border=\"1\" class=\"dataframe\">\n",
       "  <thead>\n",
       "    <tr style=\"text-align: right;\">\n",
       "      <th></th>\n",
       "      <th>director</th>\n",
       "      <th>number_of_title</th>\n",
       "      <th>vote_average</th>\n",
       "    </tr>\n",
       "  </thead>\n",
       "  <tbody>\n",
       "    <tr>\n",
       "      <th>4999</th>\n",
       "      <td>Woody Allen</td>\n",
       "      <td>45</td>\n",
       "      <td>6.444444</td>\n",
       "    </tr>\n",
       "    <tr>\n",
       "      <th>878</th>\n",
       "      <td>Clint Eastwood</td>\n",
       "      <td>34</td>\n",
       "      <td>6.508824</td>\n",
       "    </tr>\n",
       "    <tr>\n",
       "      <th>3175</th>\n",
       "      <td>Martin Scorsese</td>\n",
       "      <td>29</td>\n",
       "      <td>6.958621</td>\n",
       "    </tr>\n",
       "    <tr>\n",
       "      <th>4601</th>\n",
       "      <td>Steven Spielberg</td>\n",
       "      <td>29</td>\n",
       "      <td>6.824138</td>\n",
       "    </tr>\n",
       "    <tr>\n",
       "      <th>4033</th>\n",
       "      <td>Ridley Scott</td>\n",
       "      <td>23</td>\n",
       "      <td>6.478261</td>\n",
       "    </tr>\n",
       "  </tbody>\n",
       "</table>\n",
       "</div>"
      ],
      "text/plain": [
       "              director  number_of_title  vote_average\n",
       "4999       Woody Allen               45      6.444444\n",
       "878     Clint Eastwood               34      6.508824\n",
       "3175   Martin Scorsese               29      6.958621\n",
       "4601  Steven Spielberg               29      6.824138\n",
       "4033      Ridley Scott               23      6.478261"
      ]
     },
     "execution_count": 66,
     "metadata": {},
     "output_type": "execute_result"
    }
   ],
   "source": [
    "df_director_clearn.sort_values(by = 'number_of_title', ascending = False).head()"
   ]
  },
  {
   "cell_type": "code",
   "execution_count": 67,
   "metadata": {},
   "outputs": [],
   "source": [
    "# Make a function to create a data frame and the list of directors directed more than N films\n",
    "def top_direct(n):\n",
    "    direct_top = list(df_direct_count[df_direct_count['original_title'] >= n].index)\n",
    "    return df[df['director'].isin(direct_top)].reset_index(drop = True), direct_top"
   ]
  },
  {
   "cell_type": "code",
   "execution_count": 68,
   "metadata": {},
   "outputs": [],
   "source": [
    "# Make a dataframe of film with directors directed more than 15 films\n",
    "df_director15, list_director15 = top_direct(15)"
   ]
  },
  {
   "cell_type": "code",
   "execution_count": 69,
   "metadata": {},
   "outputs": [
    {
     "data": {
      "text/html": [
       "<div>\n",
       "<style scoped>\n",
       "    .dataframe tbody tr th:only-of-type {\n",
       "        vertical-align: middle;\n",
       "    }\n",
       "\n",
       "    .dataframe tbody tr th {\n",
       "        vertical-align: top;\n",
       "    }\n",
       "\n",
       "    .dataframe thead th {\n",
       "        text-align: right;\n",
       "    }\n",
       "</style>\n",
       "<table border=\"1\" class=\"dataframe\">\n",
       "  <thead>\n",
       "    <tr style=\"text-align: right;\">\n",
       "      <th></th>\n",
       "      <th>popularity</th>\n",
       "      <th>budget</th>\n",
       "      <th>revenue</th>\n",
       "      <th>original_title</th>\n",
       "      <th>cast</th>\n",
       "      <th>director</th>\n",
       "      <th>keywords</th>\n",
       "      <th>runtime</th>\n",
       "      <th>genres</th>\n",
       "      <th>production_companies</th>\n",
       "      <th>release_date</th>\n",
       "      <th>vote_count</th>\n",
       "      <th>vote_average</th>\n",
       "      <th>release_year</th>\n",
       "      <th>budget_adj</th>\n",
       "      <th>revenue_adj</th>\n",
       "    </tr>\n",
       "  </thead>\n",
       "  <tbody>\n",
       "    <tr>\n",
       "      <th>0</th>\n",
       "      <td>7.667400</td>\n",
       "      <td>108000000.0</td>\n",
       "      <td>595380321.0</td>\n",
       "      <td>The Martian</td>\n",
       "      <td>Matt Damon|Jessica Chastain|Kristen Wiig|Jeff ...</td>\n",
       "      <td>Ridley Scott</td>\n",
       "      <td>based on novel|mars|nasa|isolation|botanist</td>\n",
       "      <td>141.0</td>\n",
       "      <td>Drama|Adventure|Science Fiction</td>\n",
       "      <td>Twentieth Century Fox Film Corporation|Scott F...</td>\n",
       "      <td>9/30/15</td>\n",
       "      <td>4572</td>\n",
       "      <td>7.6</td>\n",
       "      <td>2015</td>\n",
       "      <td>9.935996e+07</td>\n",
       "      <td>5.477497e+08</td>\n",
       "    </tr>\n",
       "    <tr>\n",
       "      <th>1</th>\n",
       "      <td>3.648210</td>\n",
       "      <td>40000000.0</td>\n",
       "      <td>162610473.0</td>\n",
       "      <td>Bridge of Spies</td>\n",
       "      <td>Tom Hanks|Mark Rylance|Amy Ryan|Alan Alda|Seba...</td>\n",
       "      <td>Steven Spielberg</td>\n",
       "      <td>spy|cia|cold war|pilot|lawyer</td>\n",
       "      <td>141.0</td>\n",
       "      <td>Thriller|Drama</td>\n",
       "      <td>DreamWorks SKG|Amblin Entertainment|Studio Bab...</td>\n",
       "      <td>10/15/15</td>\n",
       "      <td>1638</td>\n",
       "      <td>7.1</td>\n",
       "      <td>2015</td>\n",
       "      <td>3.679998e+07</td>\n",
       "      <td>1.496016e+08</td>\n",
       "    </tr>\n",
       "    <tr>\n",
       "      <th>2</th>\n",
       "      <td>2.345821</td>\n",
       "      <td>100000000.0</td>\n",
       "      <td>93820758.0</td>\n",
       "      <td>In the Heart of the Sea</td>\n",
       "      <td>Chris Hemsworth|Benjamin Walker|Cillian Murphy...</td>\n",
       "      <td>Ron Howard</td>\n",
       "      <td>suicide|ocean|sea|hunger|shipwreck</td>\n",
       "      <td>122.0</td>\n",
       "      <td>Thriller|Drama|Adventure|Action|History</td>\n",
       "      <td>Imagine Entertainment|Spring Creek Productions...</td>\n",
       "      <td>11/20/15</td>\n",
       "      <td>805</td>\n",
       "      <td>6.4</td>\n",
       "      <td>2015</td>\n",
       "      <td>9.199996e+07</td>\n",
       "      <td>8.631506e+07</td>\n",
       "    </tr>\n",
       "  </tbody>\n",
       "</table>\n",
       "</div>"
      ],
      "text/plain": [
       "   popularity       budget      revenue           original_title  \\\n",
       "0    7.667400  108000000.0  595380321.0              The Martian   \n",
       "1    3.648210   40000000.0  162610473.0          Bridge of Spies   \n",
       "2    2.345821  100000000.0   93820758.0  In the Heart of the Sea   \n",
       "\n",
       "                                                cast          director  \\\n",
       "0  Matt Damon|Jessica Chastain|Kristen Wiig|Jeff ...      Ridley Scott   \n",
       "1  Tom Hanks|Mark Rylance|Amy Ryan|Alan Alda|Seba...  Steven Spielberg   \n",
       "2  Chris Hemsworth|Benjamin Walker|Cillian Murphy...        Ron Howard   \n",
       "\n",
       "                                      keywords  runtime  \\\n",
       "0  based on novel|mars|nasa|isolation|botanist    141.0   \n",
       "1                spy|cia|cold war|pilot|lawyer    141.0   \n",
       "2           suicide|ocean|sea|hunger|shipwreck    122.0   \n",
       "\n",
       "                                    genres  \\\n",
       "0          Drama|Adventure|Science Fiction   \n",
       "1                           Thriller|Drama   \n",
       "2  Thriller|Drama|Adventure|Action|History   \n",
       "\n",
       "                                production_companies release_date  vote_count  \\\n",
       "0  Twentieth Century Fox Film Corporation|Scott F...      9/30/15        4572   \n",
       "1  DreamWorks SKG|Amblin Entertainment|Studio Bab...     10/15/15        1638   \n",
       "2  Imagine Entertainment|Spring Creek Productions...     11/20/15         805   \n",
       "\n",
       "   vote_average  release_year    budget_adj   revenue_adj  \n",
       "0           7.6          2015  9.935996e+07  5.477497e+08  \n",
       "1           7.1          2015  3.679998e+07  1.496016e+08  \n",
       "2           6.4          2015  9.199996e+07  8.631506e+07  "
      ]
     },
     "execution_count": 69,
     "metadata": {},
     "output_type": "execute_result"
    }
   ],
   "source": [
    "df_director15.head(3)"
   ]
  },
  {
   "cell_type": "code",
   "execution_count": 70,
   "metadata": {},
   "outputs": [
    {
     "data": {
      "text/plain": [
       "['Woody Allen',\n",
       " 'Clint Eastwood',\n",
       " 'Martin Scorsese',\n",
       " 'Steven Spielberg',\n",
       " 'Ridley Scott',\n",
       " 'Ron Howard',\n",
       " 'Steven Soderbergh',\n",
       " 'Joel Schumacher',\n",
       " 'Brian De Palma',\n",
       " 'Tim Burton',\n",
       " 'Wes Craven',\n",
       " 'Barry Levinson',\n",
       " 'Mike Nichols',\n",
       " 'Rob Reiner',\n",
       " 'David Cronenberg',\n",
       " 'John Carpenter',\n",
       " 'Francis Ford Coppola',\n",
       " 'Norman Jewison',\n",
       " 'Sidney Lumet',\n",
       " 'Walter Hill',\n",
       " 'Renny Harlin',\n",
       " 'Peter Hyams',\n",
       " 'Robert Zemeckis',\n",
       " 'Oliver Stone',\n",
       " 'Tyler Perry',\n",
       " 'Spike Lee',\n",
       " 'Stephen Frears',\n",
       " 'Uwe Boll',\n",
       " 'Richard Linklater',\n",
       " 'Stephen Herek',\n",
       " 'Blake Edwards',\n",
       " 'Richard Donner',\n",
       " 'Roman Polanski',\n",
       " 'John Landis',\n",
       " 'Tony Scott',\n",
       " 'Neil Jordan',\n",
       " 'David Lynch',\n",
       " 'Ivan Reitman',\n",
       " 'Robert Altman',\n",
       " 'Gus Van Sant']"
      ]
     },
     "execution_count": 70,
     "metadata": {},
     "output_type": "execute_result"
    }
   ],
   "source": [
    "list_director15"
   ]
  },
  {
   "cell_type": "code",
   "execution_count": 89,
   "metadata": {},
   "outputs": [
    {
     "data": {
      "image/png": "[encoded data removed]",
      "text/plain": [
       "<Figure size 1440x360 with 1 Axes>"
      ]
     },
     "metadata": {
      "needs_background": "light"
     },
     "output_type": "display_data"
    }
   ],
   "source": [
    "# Plot the vote avarage by director in descending order of the number of films from the left.\n",
    "plt.figure(figsize=(20,5))\n",
    "sns.boxplot(df_director15.director, df_director15.vote_average, order = list_director15)\n",
    "plt.title('Box Plot of Vote Average per Director', fontsize = 20)\n",
    "plt.xlabel('Director', fontsize = 15)\n",
    "plt.ylabel('Vote Average', fontsize = 15)\n",
    "plt.xticks(rotation = 90)\n",
    "plt.show()"
   ]
  },
  {
   "cell_type": "markdown",
   "metadata": {},
   "source": [
    "##### This graph shows that there is a relatively big difference in vote avrage per director."
   ]
  },
  {
   "cell_type": "code",
   "execution_count": 72,
   "metadata": {},
   "outputs": [
    {
     "data": {
      "text/plain": [
       "count    764.000000\n",
       "mean       6.286126\n",
       "std        0.817384\n",
       "min        3.000000\n",
       "25%        5.800000\n",
       "50%        6.350000\n",
       "75%        6.800000\n",
       "max        8.300000\n",
       "Name: vote_average, dtype: float64"
      ]
     },
     "execution_count": 72,
     "metadata": {},
     "output_type": "execute_result"
    }
   ],
   "source": [
    "df_director15.vote_average.describe()"
   ]
  },
  {
   "cell_type": "code",
   "execution_count": 73,
   "metadata": {},
   "outputs": [
    {
     "data": {
      "text/plain": [
       "0.22321169908791527"
      ]
     },
     "execution_count": 73,
     "metadata": {},
     "output_type": "execute_result"
    }
   ],
   "source": [
    "# Check variance\n",
    "statistics.variance(df_director15.groupby('director').mean().vote_average)"
   ]
  },
  {
   "cell_type": "code",
   "execution_count": 74,
   "metadata": {},
   "outputs": [],
   "source": [
    "# Check correlation coefficient. \n",
    "df_director15_dummy = pd.get_dummies(df_director15, columns = ['director'])"
   ]
  },
  {
   "cell_type": "code",
   "execution_count": 75,
   "metadata": {},
   "outputs": [
    {
     "data": {
      "text/html": [
       "<div>\n",
       "<style scoped>\n",
       "    .dataframe tbody tr th:only-of-type {\n",
       "        vertical-align: middle;\n",
       "    }\n",
       "\n",
       "    .dataframe tbody tr th {\n",
       "        vertical-align: top;\n",
       "    }\n",
       "\n",
       "    .dataframe thead th {\n",
       "        text-align: right;\n",
       "    }\n",
       "</style>\n",
       "<table border=\"1\" class=\"dataframe\">\n",
       "  <thead>\n",
       "    <tr style=\"text-align: right;\">\n",
       "      <th></th>\n",
       "      <th>popularity</th>\n",
       "      <th>budget</th>\n",
       "      <th>revenue</th>\n",
       "      <th>original_title</th>\n",
       "      <th>cast</th>\n",
       "      <th>keywords</th>\n",
       "      <th>runtime</th>\n",
       "      <th>genres</th>\n",
       "      <th>production_companies</th>\n",
       "      <th>release_date</th>\n",
       "      <th>...</th>\n",
       "      <th>director_Stephen Herek</th>\n",
       "      <th>director_Steven Soderbergh</th>\n",
       "      <th>director_Steven Spielberg</th>\n",
       "      <th>director_Tim Burton</th>\n",
       "      <th>director_Tony Scott</th>\n",
       "      <th>director_Tyler Perry</th>\n",
       "      <th>director_Uwe Boll</th>\n",
       "      <th>director_Walter Hill</th>\n",
       "      <th>director_Wes Craven</th>\n",
       "      <th>director_Woody Allen</th>\n",
       "    </tr>\n",
       "  </thead>\n",
       "  <tbody>\n",
       "    <tr>\n",
       "      <th>0</th>\n",
       "      <td>7.667400</td>\n",
       "      <td>108000000.0</td>\n",
       "      <td>595380321.0</td>\n",
       "      <td>The Martian</td>\n",
       "      <td>Matt Damon|Jessica Chastain|Kristen Wiig|Jeff ...</td>\n",
       "      <td>based on novel|mars|nasa|isolation|botanist</td>\n",
       "      <td>141.0</td>\n",
       "      <td>Drama|Adventure|Science Fiction</td>\n",
       "      <td>Twentieth Century Fox Film Corporation|Scott F...</td>\n",
       "      <td>9/30/15</td>\n",
       "      <td>...</td>\n",
       "      <td>0</td>\n",
       "      <td>0</td>\n",
       "      <td>0</td>\n",
       "      <td>0</td>\n",
       "      <td>0</td>\n",
       "      <td>0</td>\n",
       "      <td>0</td>\n",
       "      <td>0</td>\n",
       "      <td>0</td>\n",
       "      <td>0</td>\n",
       "    </tr>\n",
       "    <tr>\n",
       "      <th>1</th>\n",
       "      <td>3.648210</td>\n",
       "      <td>40000000.0</td>\n",
       "      <td>162610473.0</td>\n",
       "      <td>Bridge of Spies</td>\n",
       "      <td>Tom Hanks|Mark Rylance|Amy Ryan|Alan Alda|Seba...</td>\n",
       "      <td>spy|cia|cold war|pilot|lawyer</td>\n",
       "      <td>141.0</td>\n",
       "      <td>Thriller|Drama</td>\n",
       "      <td>DreamWorks SKG|Amblin Entertainment|Studio Bab...</td>\n",
       "      <td>10/15/15</td>\n",
       "      <td>...</td>\n",
       "      <td>0</td>\n",
       "      <td>0</td>\n",
       "      <td>1</td>\n",
       "      <td>0</td>\n",
       "      <td>0</td>\n",
       "      <td>0</td>\n",
       "      <td>0</td>\n",
       "      <td>0</td>\n",
       "      <td>0</td>\n",
       "      <td>0</td>\n",
       "    </tr>\n",
       "    <tr>\n",
       "      <th>2</th>\n",
       "      <td>2.345821</td>\n",
       "      <td>100000000.0</td>\n",
       "      <td>93820758.0</td>\n",
       "      <td>In the Heart of the Sea</td>\n",
       "      <td>Chris Hemsworth|Benjamin Walker|Cillian Murphy...</td>\n",
       "      <td>suicide|ocean|sea|hunger|shipwreck</td>\n",
       "      <td>122.0</td>\n",
       "      <td>Thriller|Drama|Adventure|Action|History</td>\n",
       "      <td>Imagine Entertainment|Spring Creek Productions...</td>\n",
       "      <td>11/20/15</td>\n",
       "      <td>...</td>\n",
       "      <td>0</td>\n",
       "      <td>0</td>\n",
       "      <td>0</td>\n",
       "      <td>0</td>\n",
       "      <td>0</td>\n",
       "      <td>0</td>\n",
       "      <td>0</td>\n",
       "      <td>0</td>\n",
       "      <td>0</td>\n",
       "      <td>0</td>\n",
       "    </tr>\n",
       "  </tbody>\n",
       "</table>\n",
       "<p>3 rows × 55 columns</p>\n",
       "</div>"
      ],
      "text/plain": [
       "   popularity       budget      revenue           original_title  \\\n",
       "0    7.667400  108000000.0  595380321.0              The Martian   \n",
       "1    3.648210   40000000.0  162610473.0          Bridge of Spies   \n",
       "2    2.345821  100000000.0   93820758.0  In the Heart of the Sea   \n",
       "\n",
       "                                                cast  \\\n",
       "0  Matt Damon|Jessica Chastain|Kristen Wiig|Jeff ...   \n",
       "1  Tom Hanks|Mark Rylance|Amy Ryan|Alan Alda|Seba...   \n",
       "2  Chris Hemsworth|Benjamin Walker|Cillian Murphy...   \n",
       "\n",
       "                                      keywords  runtime  \\\n",
       "0  based on novel|mars|nasa|isolation|botanist    141.0   \n",
       "1                spy|cia|cold war|pilot|lawyer    141.0   \n",
       "2           suicide|ocean|sea|hunger|shipwreck    122.0   \n",
       "\n",
       "                                    genres  \\\n",
       "0          Drama|Adventure|Science Fiction   \n",
       "1                           Thriller|Drama   \n",
       "2  Thriller|Drama|Adventure|Action|History   \n",
       "\n",
       "                                production_companies release_date  \\\n",
       "0  Twentieth Century Fox Film Corporation|Scott F...      9/30/15   \n",
       "1  DreamWorks SKG|Amblin Entertainment|Studio Bab...     10/15/15   \n",
       "2  Imagine Entertainment|Spring Creek Productions...     11/20/15   \n",
       "\n",
       "           ...           director_Stephen Herek  director_Steven Soderbergh  \\\n",
       "0          ...                                0                           0   \n",
       "1          ...                                0                           0   \n",
       "2          ...                                0                           0   \n",
       "\n",
       "   director_Steven Spielberg  director_Tim Burton  director_Tony Scott  \\\n",
       "0                          0                    0                    0   \n",
       "1                          1                    0                    0   \n",
       "2                          0                    0                    0   \n",
       "\n",
       "   director_Tyler Perry  director_Uwe Boll  director_Walter Hill  \\\n",
       "0                     0                  0                     0   \n",
       "1                     0                  0                     0   \n",
       "2                     0                  0                     0   \n",
       "\n",
       "   director_Wes Craven  director_Woody Allen  \n",
       "0                    0                     0  \n",
       "1                    0                     0  \n",
       "2                    0                     0  \n",
       "\n",
       "[3 rows x 55 columns]"
      ]
     },
     "execution_count": 75,
     "metadata": {},
     "output_type": "execute_result"
    }
   ],
   "source": [
    "df_director15_dummy.head(3)"
   ]
  },
  {
   "cell_type": "code",
   "execution_count": 76,
   "metadata": {},
   "outputs": [
    {
     "data": {
      "text/html": [
       "<div>\n",
       "<style scoped>\n",
       "    .dataframe tbody tr th:only-of-type {\n",
       "        vertical-align: middle;\n",
       "    }\n",
       "\n",
       "    .dataframe tbody tr th {\n",
       "        vertical-align: top;\n",
       "    }\n",
       "\n",
       "    .dataframe thead th {\n",
       "        text-align: right;\n",
       "    }\n",
       "</style>\n",
       "<table border=\"1\" class=\"dataframe\">\n",
       "  <thead>\n",
       "    <tr style=\"text-align: right;\">\n",
       "      <th></th>\n",
       "      <th>director_Barry Levinson</th>\n",
       "      <th>director_Blake Edwards</th>\n",
       "      <th>director_Brian De Palma</th>\n",
       "      <th>director_Clint Eastwood</th>\n",
       "      <th>director_David Cronenberg</th>\n",
       "      <th>director_David Lynch</th>\n",
       "      <th>director_Francis Ford Coppola</th>\n",
       "      <th>director_Gus Van Sant</th>\n",
       "      <th>director_Ivan Reitman</th>\n",
       "      <th>director_Joel Schumacher</th>\n",
       "      <th>...</th>\n",
       "      <th>director_Stephen Herek</th>\n",
       "      <th>director_Steven Soderbergh</th>\n",
       "      <th>director_Steven Spielberg</th>\n",
       "      <th>director_Tim Burton</th>\n",
       "      <th>director_Tony Scott</th>\n",
       "      <th>director_Tyler Perry</th>\n",
       "      <th>director_Uwe Boll</th>\n",
       "      <th>director_Walter Hill</th>\n",
       "      <th>director_Wes Craven</th>\n",
       "      <th>director_Woody Allen</th>\n",
       "    </tr>\n",
       "  </thead>\n",
       "  <tbody>\n",
       "    <tr>\n",
       "      <th>0</th>\n",
       "      <td>0</td>\n",
       "      <td>0</td>\n",
       "      <td>0</td>\n",
       "      <td>0</td>\n",
       "      <td>0</td>\n",
       "      <td>0</td>\n",
       "      <td>0</td>\n",
       "      <td>0</td>\n",
       "      <td>0</td>\n",
       "      <td>0</td>\n",
       "      <td>...</td>\n",
       "      <td>0</td>\n",
       "      <td>0</td>\n",
       "      <td>0</td>\n",
       "      <td>0</td>\n",
       "      <td>0</td>\n",
       "      <td>0</td>\n",
       "      <td>0</td>\n",
       "      <td>0</td>\n",
       "      <td>0</td>\n",
       "      <td>0</td>\n",
       "    </tr>\n",
       "    <tr>\n",
       "      <th>1</th>\n",
       "      <td>0</td>\n",
       "      <td>0</td>\n",
       "      <td>0</td>\n",
       "      <td>0</td>\n",
       "      <td>0</td>\n",
       "      <td>0</td>\n",
       "      <td>0</td>\n",
       "      <td>0</td>\n",
       "      <td>0</td>\n",
       "      <td>0</td>\n",
       "      <td>...</td>\n",
       "      <td>0</td>\n",
       "      <td>0</td>\n",
       "      <td>1</td>\n",
       "      <td>0</td>\n",
       "      <td>0</td>\n",
       "      <td>0</td>\n",
       "      <td>0</td>\n",
       "      <td>0</td>\n",
       "      <td>0</td>\n",
       "      <td>0</td>\n",
       "    </tr>\n",
       "    <tr>\n",
       "      <th>2</th>\n",
       "      <td>0</td>\n",
       "      <td>0</td>\n",
       "      <td>0</td>\n",
       "      <td>0</td>\n",
       "      <td>0</td>\n",
       "      <td>0</td>\n",
       "      <td>0</td>\n",
       "      <td>0</td>\n",
       "      <td>0</td>\n",
       "      <td>0</td>\n",
       "      <td>...</td>\n",
       "      <td>0</td>\n",
       "      <td>0</td>\n",
       "      <td>0</td>\n",
       "      <td>0</td>\n",
       "      <td>0</td>\n",
       "      <td>0</td>\n",
       "      <td>0</td>\n",
       "      <td>0</td>\n",
       "      <td>0</td>\n",
       "      <td>0</td>\n",
       "    </tr>\n",
       "    <tr>\n",
       "      <th>3</th>\n",
       "      <td>0</td>\n",
       "      <td>0</td>\n",
       "      <td>0</td>\n",
       "      <td>0</td>\n",
       "      <td>0</td>\n",
       "      <td>0</td>\n",
       "      <td>0</td>\n",
       "      <td>0</td>\n",
       "      <td>0</td>\n",
       "      <td>0</td>\n",
       "      <td>...</td>\n",
       "      <td>0</td>\n",
       "      <td>0</td>\n",
       "      <td>0</td>\n",
       "      <td>0</td>\n",
       "      <td>0</td>\n",
       "      <td>0</td>\n",
       "      <td>0</td>\n",
       "      <td>0</td>\n",
       "      <td>0</td>\n",
       "      <td>0</td>\n",
       "    </tr>\n",
       "    <tr>\n",
       "      <th>4</th>\n",
       "      <td>0</td>\n",
       "      <td>0</td>\n",
       "      <td>0</td>\n",
       "      <td>0</td>\n",
       "      <td>0</td>\n",
       "      <td>0</td>\n",
       "      <td>0</td>\n",
       "      <td>0</td>\n",
       "      <td>0</td>\n",
       "      <td>0</td>\n",
       "      <td>...</td>\n",
       "      <td>0</td>\n",
       "      <td>0</td>\n",
       "      <td>0</td>\n",
       "      <td>0</td>\n",
       "      <td>0</td>\n",
       "      <td>0</td>\n",
       "      <td>0</td>\n",
       "      <td>0</td>\n",
       "      <td>0</td>\n",
       "      <td>1</td>\n",
       "    </tr>\n",
       "  </tbody>\n",
       "</table>\n",
       "<p>5 rows × 40 columns</p>\n",
       "</div>"
      ],
      "text/plain": [
       "   director_Barry Levinson  director_Blake Edwards  director_Brian De Palma  \\\n",
       "0                        0                       0                        0   \n",
       "1                        0                       0                        0   \n",
       "2                        0                       0                        0   \n",
       "3                        0                       0                        0   \n",
       "4                        0                       0                        0   \n",
       "\n",
       "   director_Clint Eastwood  director_David Cronenberg  director_David Lynch  \\\n",
       "0                        0                          0                     0   \n",
       "1                        0                          0                     0   \n",
       "2                        0                          0                     0   \n",
       "3                        0                          0                     0   \n",
       "4                        0                          0                     0   \n",
       "\n",
       "   director_Francis Ford Coppola  director_Gus Van Sant  \\\n",
       "0                              0                      0   \n",
       "1                              0                      0   \n",
       "2                              0                      0   \n",
       "3                              0                      0   \n",
       "4                              0                      0   \n",
       "\n",
       "   director_Ivan Reitman  director_Joel Schumacher          ...           \\\n",
       "0                      0                         0          ...            \n",
       "1                      0                         0          ...            \n",
       "2                      0                         0          ...            \n",
       "3                      0                         0          ...            \n",
       "4                      0                         0          ...            \n",
       "\n",
       "   director_Stephen Herek  director_Steven Soderbergh  \\\n",
       "0                       0                           0   \n",
       "1                       0                           0   \n",
       "2                       0                           0   \n",
       "3                       0                           0   \n",
       "4                       0                           0   \n",
       "\n",
       "   director_Steven Spielberg  director_Tim Burton  director_Tony Scott  \\\n",
       "0                          0                    0                    0   \n",
       "1                          1                    0                    0   \n",
       "2                          0                    0                    0   \n",
       "3                          0                    0                    0   \n",
       "4                          0                    0                    0   \n",
       "\n",
       "   director_Tyler Perry  director_Uwe Boll  director_Walter Hill  \\\n",
       "0                     0                  0                     0   \n",
       "1                     0                  0                     0   \n",
       "2                     0                  0                     0   \n",
       "3                     0                  0                     0   \n",
       "4                     0                  0                     0   \n",
       "\n",
       "   director_Wes Craven  director_Woody Allen  \n",
       "0                    0                     0  \n",
       "1                    0                     0  \n",
       "2                    0                     0  \n",
       "3                    0                     0  \n",
       "4                    0                     1  \n",
       "\n",
       "[5 rows x 40 columns]"
      ]
     },
     "execution_count": 76,
     "metadata": {},
     "output_type": "execute_result"
    }
   ],
   "source": [
    "df_director15_dummy.iloc[:, 15:].head()"
   ]
  },
  {
   "cell_type": "code",
   "execution_count": 77,
   "metadata": {},
   "outputs": [],
   "source": [
    "director_coef = df_director15_dummy.iloc[:, 15:].corrwith(df_director15_dummy['vote_average']).sort_values( ascending= False)"
   ]
  },
  {
   "cell_type": "code",
   "execution_count": 78,
   "metadata": {},
   "outputs": [
    {
     "data": {
      "text/plain": [
       "director_Martin Scorsese         0.163532\n",
       "director_Steven Spielberg        0.130830\n",
       "director_Roman Polanski          0.090889\n",
       "director_Robert Zemeckis         0.077521\n",
       "director_Sidney Lumet            0.073176\n",
       "director_Richard Linklater       0.070746\n",
       "director_Tim Burton              0.069596\n",
       "director_Francis Ford Coppola    0.061226\n",
       "director_Clint Eastwood          0.058837\n",
       "director_David Lynch             0.052068\n",
       "director_Woody Allen             0.048488\n",
       "director_Rob Reiner              0.044897\n",
       "director_Ridley Scott            0.041440\n",
       "director_Tyler Perry             0.034067\n",
       "director_Ron Howard              0.019214\n",
       "director_Tony Scott              0.015913\n",
       "director_Brian De Palma          0.013824\n",
       "director_Oliver Stone            0.011253\n",
       "director_Mike Nichols            0.010034\n",
       "director_Richard Donner          0.003603\n",
       "director_David Cronenberg        0.002638\n",
       "director_Spike Lee               0.001476\n",
       "director_John Landis            -0.003111\n",
       "director_Gus Van Sant           -0.010301\n",
       "director_Neil Jordan            -0.020696\n",
       "director_Norman Jewison         -0.021338\n",
       "director_Steven Soderbergh      -0.023904\n",
       "director_Stephen Frears         -0.025683\n",
       "director_John Carpenter         -0.025886\n",
       "director_Walter Hill            -0.032201\n",
       "director_Blake Edwards          -0.032206\n",
       "director_Robert Altman          -0.036865\n",
       "director_Barry Levinson         -0.059026\n",
       "director_Joel Schumacher        -0.064769\n",
       "director_Wes Craven             -0.082692\n",
       "director_Ivan Reitman           -0.089994\n",
       "director_Renny Harlin           -0.097383\n",
       "director_Stephen Herek          -0.100468\n",
       "director_Peter Hyams            -0.128887\n",
       "director_Uwe Boll               -0.392539\n",
       "dtype: float64"
      ]
     },
     "execution_count": 78,
     "metadata": {},
     "output_type": "execute_result"
    }
   ],
   "source": [
    "director_coef"
   ]
  },
  {
   "cell_type": "code",
   "execution_count": 79,
   "metadata": {},
   "outputs": [
    {
     "data": {
      "text/plain": [
       "count    40.000000\n",
       "mean      0.058580\n",
       "std       0.066703\n",
       "min       0.001476\n",
       "25%       0.020325\n",
       "50%       0.043168\n",
       "75%       0.074262\n",
       "max       0.392539\n",
       "dtype: float64"
      ]
     },
     "execution_count": 79,
     "metadata": {},
     "output_type": "execute_result"
    }
   ],
   "source": [
    "np.absolute(director_coef).describe() "
   ]
  },
  {
   "cell_type": "code",
   "execution_count": 80,
   "metadata": {},
   "outputs": [
    {
     "data": {
      "text/plain": [
       "count    35.000000\n",
       "mean      0.044402\n",
       "std       0.034411\n",
       "min       0.000629\n",
       "25%       0.017061\n",
       "50%       0.036008\n",
       "75%       0.059586\n",
       "max       0.118543\n",
       "dtype: float64"
      ]
     },
     "execution_count": 80,
     "metadata": {},
     "output_type": "execute_result"
    }
   ],
   "source": [
    "np.absolute(cast_coef).describe()"
   ]
  },
  {
   "cell_type": "markdown",
   "metadata": {},
   "source": [
    "##### Overall, the director tends to influence the vote average more than casts."
   ]
  },
  {
   "cell_type": "markdown",
   "metadata": {},
   "source": [
    "<a id='conclusions'></a>\n",
    "## Conclusions"
   ]
  },
  {
   "cell_type": "markdown",
   "metadata": {},
   "source": [
    "### Limitations\n"
   ]
  },
  {
   "cell_type": "markdown",
   "metadata": {},
   "source": [
    "##### What I analysed here has some limitations. This dataset is extracted from TMDb and this might not represent the general population as I did not carried out statistical analysis to verify this. For example, the country of film production, the residence of the voter, the language of the film are not included in this dataset, while TMDb officially supports 39 languages and used in over 180 countries. Also, there is a number of null or invalid values in the data, especially in revenue and budget. "
   ]
  },
  {
   "cell_type": "markdown",
   "metadata": {
    "jupyter": {
     "outputs_hidden": true
    }
   },
   "source": [
    "### Conclusions"
   ]
  },
  {
   "cell_type": "markdown",
   "metadata": {},
   "source": [
    "##### Overall, the number of the films by year has been increasing in TMDb, while we cannot rule out only with this dataset that the actual number of the film per year is different. On the contrary to this, the vote average shows a negative correlation with the number of films by year and release year.\n",
    "##### In terms of genres, they are not highly associated with the vote average. When it comes to film director and cast, they both show the weak correlation to vote average. And, film directors have relatively stronger correlation compared to casts. "
   ]
  }
 ],
 "metadata": {
  "kernelspec": {
   "display_name": "Python 3",
   "language": "python",
   "name": "python3"
  },
  "language_info": {
   "codemirror_mode": {
    "name": "ipython",
    "version": 3
   },
   "file_extension": ".py",
   "mimetype": "text/x-python",
   "name": "python",
   "nbconvert_exporter": "python",
   "pygments_lexer": "ipython3",
   "version": "3.7.1"
  }
 },
 "nbformat": 4,
 "nbformat_minor": 4
}
